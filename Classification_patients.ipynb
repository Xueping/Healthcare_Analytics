{
 "cells": [
  {
   "cell_type": "code",
   "execution_count": 1,
   "metadata": {
    "collapsed": true
   },
   "outputs": [],
   "source": [
    "import pandas as pd\n",
    "rawData =  pd.read_csv('data/mimic3_demographic_data.csv')"
   ]
  },
  {
   "cell_type": "code",
   "execution_count": 3,
   "metadata": {
    "collapsed": true
   },
   "outputs": [],
   "source": [
    "cat_df = rawData.iloc[:,1:10]"
   ]
  },
  {
   "cell_type": "code",
   "execution_count": 4,
   "metadata": {},
   "outputs": [],
   "source": [
    "from sklearn import preprocessing\n",
    "\n",
    "# TODO: create a LabelEncoder object and fit it to each feature in cat_df\n",
    "\n",
    "# 1. INSTANTIATE\n",
    "# encode labels with value between 0 and n_classes-1.\n",
    "le = preprocessing.LabelEncoder()\n",
    "\n",
    "# 2/3. FIT AND TRANSFORM\n",
    "# use df.apply() to apply le.fit_transform to all columns\n",
    "cat_df_2 = cat_df.apply(le.fit_transform)"
   ]
  },
  {
   "cell_type": "code",
   "execution_count": 5,
   "metadata": {},
   "outputs": [],
   "source": [
    "# TODO: create a OneHotEncoder object, and fit it to all of  cat_df\n",
    "\n",
    "# 1. INSTANTIATE\n",
    "enc = preprocessing.OneHotEncoder()\n",
    "\n",
    "# 2. FIT\n",
    "enc.fit(cat_df_2)\n",
    "\n",
    "# 3. Transform\n",
    "onehotlabels = enc.transform(cat_df_2).todense() "
   ]
  },
  {
   "cell_type": "markdown",
   "metadata": {},
   "source": [
    "Logistical Regression"
   ]
  },
  {
   "cell_type": "code",
   "execution_count": 6,
   "metadata": {
    "collapsed": true
   },
   "outputs": [],
   "source": [
    "labels = cat_df = rawData.iloc[:,11]"
   ]
  },
  {
   "cell_type": "code",
   "execution_count": 8,
   "metadata": {},
   "outputs": [],
   "source": [
    "from sklearn import linear_model, datasets\n",
    "from sklearn.preprocessing import StandardScaler\n",
    "from sklearn.model_selection import train_test_split\n",
    "\n",
    "data = StandardScaler().fit_transform(onehotlabels)\n",
    "\n",
    "logreg = linear_model.LogisticRegression(C=1e5)\n",
    "\n",
    "X_train, X_test, y_train, y_test = \\\n",
    "        train_test_split(data, labels, test_size=.2, random_state=42)\n",
    "\n",
    "logreg.fit(X_train, y_train)\n",
    "score = logreg.score(X_test, y_test)"
   ]
  },
  {
   "cell_type": "markdown",
   "metadata": {},
   "source": [
    "Spectral Clustering"
   ]
  },
  {
   "cell_type": "code",
   "execution_count": 4,
   "metadata": {
    "collapsed": true
   },
   "outputs": [],
   "source": [
    "import pandas as pd\n",
    "\n",
    "rawData =  pd.read_csv('data/dist_matrix.csv', index_col=0)"
   ]
  },
  {
   "cell_type": "code",
   "execution_count": 12,
   "metadata": {},
   "outputs": [
    {
     "data": {
      "text/plain": [
       "(372, 372)"
      ]
     },
     "execution_count": 12,
     "metadata": {},
     "output_type": "execute_result"
    }
   ],
   "source": [
    "rawData.shape"
   ]
  },
  {
   "cell_type": "code",
   "execution_count": 27,
   "metadata": {
    "collapsed": true
   },
   "outputs": [],
   "source": [
    "from sklearn.cluster import SpectralClustering\n",
    "labels = SpectralClustering(n_clusters=3,eigen_solver='arpack',affinity=\"nearest_neighbors\").fit_predict(rawData)"
   ]
  },
  {
   "cell_type": "markdown",
   "metadata": {},
   "source": [
    "Iteration of features as class label"
   ]
  },
  {
   "cell_type": "code",
   "execution_count": 12,
   "metadata": {},
   "outputs": [
    {
     "name": "stdout",
     "output_type": "stream",
     "text": [
      "('ADMISSION_TYPE', 0.76000000000000001)\n",
      "('ADMISSION_LOCATION', 0.56000000000000005)\n",
      "('DISCHARGE_LOCATION', 0.25333333333333335)\n",
      "('INSURANCE', 0.54666666666666663)\n",
      "('RELIGION', 0.33333333333333331)\n",
      "('LANGUAGE', 0.53333333333333333)\n",
      "('MARITAL_STATUS', 0.44)\n",
      "('ETHNICITY', 0.64000000000000001)\n",
      "('frequency', 0.40000000000000002)\n"
     ]
    }
   ],
   "source": [
    "from sklearn import linear_model, datasets\n",
    "from sklearn.preprocessing import StandardScaler\n",
    "from sklearn.model_selection import train_test_split\n",
    "\n",
    "colums = cat_df_2.columns.values\n",
    "\n",
    "for i in range(cat_df_2.shape[1]):\n",
    "    cols = range(cat_df_2.shape[1])\n",
    "    cols.pop(i)\n",
    "    labels = cat_df_2.iloc[:,i]\n",
    "    trainData = cat_df_2.iloc[:,cols]\n",
    "    \n",
    "    enc = preprocessing.OneHotEncoder()\n",
    "    enc.fit(trainData)\n",
    "    onehotData = enc.transform(trainData).todense() \n",
    "    \n",
    "    data = StandardScaler().fit_transform(onehotData)\n",
    "    \n",
    "    logreg = linear_model.LogisticRegression(C=1e5)\n",
    "\n",
    "    X_train, X_test, y_train, y_test = \\\n",
    "            train_test_split(data, labels, test_size=.2, random_state=42)\n",
    "\n",
    "    logreg.fit(X_train, y_train)\n",
    "    score = logreg.score(X_test, y_test)\n",
    "    print (colums[i], score)"
   ]
  },
  {
   "cell_type": "code",
   "execution_count": 45,
   "metadata": {},
   "outputs": [
    {
     "data": {
      "text/plain": [
       "1    269\n",
       "0     85\n",
       "2     18\n",
       "Name: ADMISSION_TYPE, dtype: int64"
      ]
     },
     "execution_count": 45,
     "metadata": {},
     "output_type": "execute_result"
    }
   ],
   "source": [
    "cat_df_2['ADMISSION_TYPE'].value_counts()"
   ]
  },
  {
   "cell_type": "code",
   "execution_count": 47,
   "metadata": {},
   "outputs": [
    {
     "data": {
      "text/plain": [
       "2    148\n",
       "3    110\n",
       "1     68\n",
       "0     43\n",
       "4      2\n",
       "5      1\n",
       "Name: ADMISSION_LOCATION, dtype: int64"
      ]
     },
     "execution_count": 47,
     "metadata": {},
     "output_type": "execute_result"
    }
   ],
   "source": [
    "cat_df_2['ADMISSION_LOCATION'].value_counts()"
   ]
  }
 ],
 "metadata": {
  "kernelspec": {
   "display_name": "Python 2",
   "language": "python",
   "name": "python2"
  },
  "language_info": {
   "codemirror_mode": {
    "name": "ipython",
    "version": 2
   },
   "file_extension": ".py",
   "mimetype": "text/x-python",
   "name": "python",
   "nbconvert_exporter": "python",
   "pygments_lexer": "ipython2",
   "version": "2.7.13"
  }
 },
 "nbformat": 4,
 "nbformat_minor": 2
}
