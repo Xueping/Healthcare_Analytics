{
 "cells": [
  {
   "cell_type": "code",
   "execution_count": 1,
   "metadata": {
    "collapsed": true
   },
   "outputs": [],
   "source": [
    "admission_df = spark.read.csv(\"../../mimic3/data/ADMISSIONS.csv\", header=True, mode=\"DROPMALFORMED\")"
   ]
  },
  {
   "cell_type": "code",
   "execution_count": 2,
   "metadata": {
    "collapsed": true
   },
   "outputs": [],
   "source": [
    "admission_df.createOrReplaceTempView(\"admission\")\n",
    "\n",
    "diabetes = spark.sql(\"SELECT * FROM admission WHERE DIAGNOSIS like '%DIABETES%'\")\n",
    "lungcancer = spark.sql(\"SELECT * FROM admission WHERE DIAGNOSIS like '%LUNG CANCER%'\")\n",
    "kidney = spark.sql(\"SELECT * FROM admission WHERE DIAGNOSIS like '%KIDNEY%'\")\n"
   ]
  },
  {
   "cell_type": "code",
   "execution_count": 5,
   "metadata": {},
   "outputs": [
    {
     "data": {
      "text/plain": [
       "[Row(ROW_ID=u'1683', SUBJECT_ID=u'1363', HADM_ID=u'163367', ADMITTIME=u'2166-02-23 20:56:00', DISCHTIME=u'2166-02-28 10:45:00', DEATHTIME=None, ADMISSION_TYPE=u'URGENT', ADMISSION_LOCATION=u'TRANSFER FROM HOSP/EXTRAM', DISCHARGE_LOCATION=u'HOME', INSURANCE=u'Private', LANGUAGE=u'ENGL', RELIGION=u'NOT SPECIFIED', MARITAL_STATUS=u'MARRIED', ETHNICITY=u'WHITE', EDREGTIME=None, EDOUTTIME=None, DIAGNOSIS=u'DIABETES;HYPERGLYCEMIA', HOSPITAL_EXPIRE_FLAG=u'0', HAS_CHARTEVENTS_DATA=u'1'),\n",
       " Row(ROW_ID=u'2838', SUBJECT_ID=u'2345', HADM_ID=u'169351', ADMITTIME=u'2103-08-11 01:05:00', DISCHTIME=u'2103-08-22 19:53:00', DEATHTIME=None, ADMISSION_TYPE=u'ELECTIVE', ADMISSION_LOCATION=u'PHYS REFERRAL/NORMAL DELI', DISCHARGE_LOCATION=u'HOME', INSURANCE=u'Private', LANGUAGE=None, RELIGION=u'PROTESTANT QUAKER', MARITAL_STATUS=u'MARRIED', ETHNICITY=u'WHITE', EDREGTIME=None, EDOUTTIME=None, DIAGNOSIS=u'DIABETES MELLITUS-PRE-OP PANCREAS TRANSPLANT', HOSPITAL_EXPIRE_FLAG=u'0', HAS_CHARTEVENTS_DATA=u'1')]"
      ]
     },
     "execution_count": 5,
     "metadata": {},
     "output_type": "execute_result"
    }
   ],
   "source": [
    "diabetes.take(2)"
   ]
  },
  {
   "cell_type": "code",
   "execution_count": 3,
   "metadata": {
    "collapsed": true
   },
   "outputs": [],
   "source": [
    "#get subject_id from Diabetes patients\n",
    "dia_id = diabetes.select(\"SUBJECT_ID\").rdd.flatMap(lambda x: x).collect()\n",
    "#exlude Diabetes patients in lung cancer patients\n",
    "lungcancer = lungcancer.filter(~lungcancer.SUBJECT_ID.isin(dia_id))\n",
    "#exlude Diabetes patients in kidney patients\n",
    "kidney = kidney.filter(~kidney.SUBJECT_ID.isin(dia_id))"
   ]
  },
  {
   "cell_type": "code",
   "execution_count": 4,
   "metadata": {},
   "outputs": [
    {
     "data": {
      "text/plain": [
       "384"
      ]
     },
     "execution_count": 4,
     "metadata": {},
     "output_type": "execute_result"
    }
   ],
   "source": [
    "diabetes.count()+lungcancer.count()+kidney.count()"
   ]
  },
  {
   "cell_type": "code",
   "execution_count": 5,
   "metadata": {
    "collapsed": true
   },
   "outputs": [],
   "source": [
    "kidney_id = kidney.select(\"SUBJECT_ID\").rdd.flatMap(lambda x: x).collect()\n",
    "#exlude kidney patients in lung cancer patients\n",
    "lungcancer = lungcancer.filter(~lungcancer.SUBJECT_ID.isin(kidney_id))"
   ]
  },
  {
   "cell_type": "code",
   "execution_count": 6,
   "metadata": {},
   "outputs": [
    {
     "data": {
      "text/plain": [
       "384"
      ]
     },
     "execution_count": 6,
     "metadata": {},
     "output_type": "execute_result"
    }
   ],
   "source": [
    "diabetes.count()+lungcancer.count()+kidney.count()"
   ]
  },
  {
   "cell_type": "code",
   "execution_count": 7,
   "metadata": {
    "collapsed": true
   },
   "outputs": [],
   "source": [
    "from pyspark.sql.functions import lit\n",
    "#add new feature \"disease\" to each row\n",
    "diabetes = diabetes.withColumn('disease', lit(0))\n",
    "lungcancer = lungcancer.withColumn('disease', lit(1))\n",
    "kidney = kidney.withColumn('disease', lit(2))\n",
    "#add new feature \"disease_desc\" for each row\n",
    "diabetes = diabetes.withColumn('disease_desc', lit(\"Diabetes\"))\n",
    "lungcancer = lungcancer.withColumn('disease_desc', lit(\"Lung Cancer\"))\n",
    "kidney = kidney.withColumn('disease_desc', lit(\"Kidney Condition\"))"
   ]
  },
  {
   "cell_type": "code",
   "execution_count": 8,
   "metadata": {},
   "outputs": [
    {
     "data": {
      "text/plain": [
       "384"
      ]
     },
     "execution_count": 8,
     "metadata": {},
     "output_type": "execute_result"
    }
   ],
   "source": [
    "diabetes.count()+lungcancer.count()+kidney.count()"
   ]
  },
  {
   "cell_type": "code",
   "execution_count": 9,
   "metadata": {
    "collapsed": true
   },
   "outputs": [],
   "source": [
    "#union three dataframe\n",
    "dataset = diabetes.union(lungcancer)\n",
    "dataset = dataset.union(kidney)"
   ]
  },
  {
   "cell_type": "code",
   "execution_count": 15,
   "metadata": {
    "collapsed": true
   },
   "outputs": [],
   "source": [
    "from pyspark.sql.window import Window\n",
    "from pyspark.sql.functions import rank\n",
    "\n",
    "wSpec = Window.partitionBy(\"SUBJECT_ID\").orderBy(\"ROW_ID\")\n",
    "\n",
    "rankData = dataset.select('SUBJECT_ID','ADMISSION_TYPE','ADMISSION_LOCATION', \n",
    "                          'DISCHARGE_LOCATION','INSURANCE','RELIGION',\n",
    "                          'LANGUAGE','MARITAL_STATUS','ETHNICITY','DIAGNOSIS','disease','disease_desc', \n",
    "                          rank().over(wSpec).alias(\"rowNum\"))"
   ]
  },
  {
   "cell_type": "code",
   "execution_count": 16,
   "metadata": {
    "collapsed": true
   },
   "outputs": [],
   "source": [
    "distinctData = rankData[rankData.rowNum == 1]\n",
    "#get subject_id from Diabetes distinctData\n",
    "distinctData_id = distinctData.select(\"SUBJECT_ID\").rdd.flatMap(lambda x: x).collect()"
   ]
  },
  {
   "cell_type": "code",
   "execution_count": 26,
   "metadata": {
    "collapsed": true
   },
   "outputs": [],
   "source": [
    "from pyspark.sql.functions import col\n",
    "all_patiets_group = admission_df.groupby('SUBJECT_ID').count()\n",
    "distinct_patiets_group = all_patiets_group.filter(all_patiets_group.SUBJECT_ID.isin(distinctData_id))\\\n",
    "                         .select(col('SUBJECT_ID').alias('patient_id'),col('count').alias('frequency'))"
   ]
  },
  {
   "cell_type": "code",
   "execution_count": 27,
   "metadata": {
    "collapsed": true
   },
   "outputs": [],
   "source": [
    "finalData = distinctData.join(distinct_patiets_group, \n",
    "                  distinct_patiets_group.patient_id == distinctData.SUBJECT_ID).select(\n",
    "                          'SUBJECT_ID','ADMISSION_TYPE','ADMISSION_LOCATION', \n",
    "                          'DISCHARGE_LOCATION','INSURANCE','RELIGION',\n",
    "                          'LANGUAGE','MARITAL_STATUS','ETHNICITY','frequency',\n",
    "                          'DIAGNOSIS','disease','disease_desc')"
   ]
  },
  {
   "cell_type": "code",
   "execution_count": 28,
   "metadata": {},
   "outputs": [
    {
     "name": "stdout",
     "output_type": "stream",
     "text": [
      "root\n",
      " |-- SUBJECT_ID: string (nullable = true)\n",
      " |-- ADMISSION_TYPE: string (nullable = true)\n",
      " |-- ADMISSION_LOCATION: string (nullable = true)\n",
      " |-- DISCHARGE_LOCATION: string (nullable = true)\n",
      " |-- INSURANCE: string (nullable = true)\n",
      " |-- RELIGION: string (nullable = true)\n",
      " |-- LANGUAGE: string (nullable = true)\n",
      " |-- MARITAL_STATUS: string (nullable = true)\n",
      " |-- ETHNICITY: string (nullable = true)\n",
      " |-- frequency: long (nullable = false)\n",
      " |-- DIAGNOSIS: string (nullable = true)\n",
      " |-- disease: integer (nullable = false)\n",
      " |-- disease_desc: string (nullable = false)\n",
      "\n"
     ]
    }
   ],
   "source": [
    "finalData.printSchema()"
   ]
  },
  {
   "cell_type": "markdown",
   "metadata": {},
   "source": [
    "Fill all null value with 'NoneValue'."
   ]
  },
  {
   "cell_type": "code",
   "execution_count": 29,
   "metadata": {
    "collapsed": true
   },
   "outputs": [],
   "source": [
    "finalData = finalData.na.fill('NoneValue')"
   ]
  },
  {
   "cell_type": "markdown",
   "metadata": {},
   "source": [
    "Transform Spark Dataframe to Pandas Dataframe."
   ]
  },
  {
   "cell_type": "code",
   "execution_count": 30,
   "metadata": {
    "collapsed": true
   },
   "outputs": [],
   "source": [
    "pd_df = finalData.toPandas()"
   ]
  },
  {
   "cell_type": "code",
   "execution_count": 31,
   "metadata": {
    "collapsed": true
   },
   "outputs": [],
   "source": [
    "pd_df.to_csv('data/mimic3_demographic_data.csv', index=False) "
   ]
  },
  {
   "cell_type": "markdown",
   "metadata": {},
   "source": [
    "Select all categorical variables from pandas dataframe."
   ]
  },
  {
   "cell_type": "code",
   "execution_count": 23,
   "metadata": {
    "collapsed": true
   },
   "outputs": [],
   "source": [
    "cat_df = pd_df.iloc[:,1:10]"
   ]
  },
  {
   "cell_type": "code",
   "execution_count": 24,
   "metadata": {},
   "outputs": [
    {
     "data": {
      "text/html": [
       "<div>\n",
       "<style>\n",
       "    .dataframe thead tr:only-child th {\n",
       "        text-align: right;\n",
       "    }\n",
       "\n",
       "    .dataframe thead th {\n",
       "        text-align: left;\n",
       "    }\n",
       "\n",
       "    .dataframe tbody tr th {\n",
       "        vertical-align: top;\n",
       "    }\n",
       "</style>\n",
       "<table border=\"1\" class=\"dataframe\">\n",
       "  <thead>\n",
       "    <tr style=\"text-align: right;\">\n",
       "      <th></th>\n",
       "      <th>ADMISSION_TYPE</th>\n",
       "      <th>ADMISSION_LOCATION</th>\n",
       "      <th>DISCHARGE_LOCATION</th>\n",
       "      <th>INSURANCE</th>\n",
       "      <th>RELIGION</th>\n",
       "      <th>LANGUAGE</th>\n",
       "      <th>MARITAL_STATUS</th>\n",
       "      <th>ETHNICITY</th>\n",
       "      <th>frequncy</th>\n",
       "    </tr>\n",
       "  </thead>\n",
       "  <tbody>\n",
       "    <tr>\n",
       "      <th>0</th>\n",
       "      <td>ELECTIVE</td>\n",
       "      <td>PHYS REFERRAL/NORMAL DELI</td>\n",
       "      <td>SNF</td>\n",
       "      <td>Medicare</td>\n",
       "      <td>PROTESTANT QUAKER</td>\n",
       "      <td>ENGL</td>\n",
       "      <td>WIDOWED</td>\n",
       "      <td>WHITE</td>\n",
       "      <td>1</td>\n",
       "    </tr>\n",
       "    <tr>\n",
       "      <th>1</th>\n",
       "      <td>ELECTIVE</td>\n",
       "      <td>PHYS REFERRAL/NORMAL DELI</td>\n",
       "      <td>SNF</td>\n",
       "      <td>Private</td>\n",
       "      <td>NOT SPECIFIED</td>\n",
       "      <td>ENGL</td>\n",
       "      <td>WIDOWED</td>\n",
       "      <td>WHITE</td>\n",
       "      <td>1</td>\n",
       "    </tr>\n",
       "    <tr>\n",
       "      <th>2</th>\n",
       "      <td>EMERGENCY</td>\n",
       "      <td>TRANSFER FROM HOSP/EXTRAM</td>\n",
       "      <td>LONG TERM CARE HOSPITAL</td>\n",
       "      <td>Medicaid</td>\n",
       "      <td>PROTESTANT QUAKER</td>\n",
       "      <td>SPAN</td>\n",
       "      <td>SINGLE</td>\n",
       "      <td>HISPANIC OR LATINO</td>\n",
       "      <td>1</td>\n",
       "    </tr>\n",
       "    <tr>\n",
       "      <th>3</th>\n",
       "      <td>ELECTIVE</td>\n",
       "      <td>PHYS REFERRAL/NORMAL DELI</td>\n",
       "      <td>HOME HEALTH CARE</td>\n",
       "      <td>Private</td>\n",
       "      <td>OTHER</td>\n",
       "      <td>ENGL</td>\n",
       "      <td>MARRIED</td>\n",
       "      <td>WHITE</td>\n",
       "      <td>1</td>\n",
       "    </tr>\n",
       "    <tr>\n",
       "      <th>4</th>\n",
       "      <td>EMERGENCY</td>\n",
       "      <td>TRANSFER FROM HOSP/EXTRAM</td>\n",
       "      <td>DISCH-TRAN TO PSYCH HOSP</td>\n",
       "      <td>Medicare</td>\n",
       "      <td>CATHOLIC</td>\n",
       "      <td>NoneValue</td>\n",
       "      <td>SINGLE</td>\n",
       "      <td>BLACK/AFRICAN AMERICAN</td>\n",
       "      <td>1</td>\n",
       "    </tr>\n",
       "  </tbody>\n",
       "</table>\n",
       "</div>"
      ],
      "text/plain": [
       "  ADMISSION_TYPE         ADMISSION_LOCATION        DISCHARGE_LOCATION  \\\n",
       "0       ELECTIVE  PHYS REFERRAL/NORMAL DELI                       SNF   \n",
       "1       ELECTIVE  PHYS REFERRAL/NORMAL DELI                       SNF   \n",
       "2      EMERGENCY  TRANSFER FROM HOSP/EXTRAM   LONG TERM CARE HOSPITAL   \n",
       "3       ELECTIVE  PHYS REFERRAL/NORMAL DELI          HOME HEALTH CARE   \n",
       "4      EMERGENCY  TRANSFER FROM HOSP/EXTRAM  DISCH-TRAN TO PSYCH HOSP   \n",
       "\n",
       "  INSURANCE           RELIGION   LANGUAGE MARITAL_STATUS  \\\n",
       "0  Medicare  PROTESTANT QUAKER       ENGL        WIDOWED   \n",
       "1   Private      NOT SPECIFIED       ENGL        WIDOWED   \n",
       "2  Medicaid  PROTESTANT QUAKER       SPAN         SINGLE   \n",
       "3   Private              OTHER       ENGL        MARRIED   \n",
       "4  Medicare           CATHOLIC  NoneValue         SINGLE   \n",
       "\n",
       "                ETHNICITY  frequncy  \n",
       "0                   WHITE         1  \n",
       "1                   WHITE         1  \n",
       "2      HISPANIC OR LATINO         1  \n",
       "3                   WHITE         1  \n",
       "4  BLACK/AFRICAN AMERICAN         1  "
      ]
     },
     "execution_count": 24,
     "metadata": {},
     "output_type": "execute_result"
    }
   ],
   "source": [
    "cat_df.head()"
   ]
  },
  {
   "cell_type": "code",
   "execution_count": 25,
   "metadata": {},
   "outputs": [
    {
     "data": {
      "text/html": [
       "<div>\n",
       "<style>\n",
       "    .dataframe thead tr:only-child th {\n",
       "        text-align: right;\n",
       "    }\n",
       "\n",
       "    .dataframe thead th {\n",
       "        text-align: left;\n",
       "    }\n",
       "\n",
       "    .dataframe tbody tr th {\n",
       "        vertical-align: top;\n",
       "    }\n",
       "</style>\n",
       "<table border=\"1\" class=\"dataframe\">\n",
       "  <thead>\n",
       "    <tr style=\"text-align: right;\">\n",
       "      <th></th>\n",
       "      <th>ADMISSION_TYPE</th>\n",
       "      <th>ADMISSION_LOCATION</th>\n",
       "      <th>DISCHARGE_LOCATION</th>\n",
       "      <th>INSURANCE</th>\n",
       "      <th>RELIGION</th>\n",
       "      <th>LANGUAGE</th>\n",
       "      <th>MARITAL_STATUS</th>\n",
       "      <th>ETHNICITY</th>\n",
       "      <th>frequncy</th>\n",
       "    </tr>\n",
       "  </thead>\n",
       "  <tbody>\n",
       "    <tr>\n",
       "      <th>0</th>\n",
       "      <td>0</td>\n",
       "      <td>2</td>\n",
       "      <td>11</td>\n",
       "      <td>2</td>\n",
       "      <td>13</td>\n",
       "      <td>4</td>\n",
       "      <td>6</td>\n",
       "      <td>13</td>\n",
       "      <td>0</td>\n",
       "    </tr>\n",
       "    <tr>\n",
       "      <th>1</th>\n",
       "      <td>0</td>\n",
       "      <td>2</td>\n",
       "      <td>11</td>\n",
       "      <td>3</td>\n",
       "      <td>10</td>\n",
       "      <td>4</td>\n",
       "      <td>6</td>\n",
       "      <td>13</td>\n",
       "      <td>0</td>\n",
       "    </tr>\n",
       "    <tr>\n",
       "      <th>2</th>\n",
       "      <td>1</td>\n",
       "      <td>3</td>\n",
       "      <td>8</td>\n",
       "      <td>1</td>\n",
       "      <td>13</td>\n",
       "      <td>13</td>\n",
       "      <td>5</td>\n",
       "      <td>7</td>\n",
       "      <td>0</td>\n",
       "    </tr>\n",
       "    <tr>\n",
       "      <th>3</th>\n",
       "      <td>0</td>\n",
       "      <td>2</td>\n",
       "      <td>4</td>\n",
       "      <td>3</td>\n",
       "      <td>12</td>\n",
       "      <td>4</td>\n",
       "      <td>2</td>\n",
       "      <td>13</td>\n",
       "      <td>0</td>\n",
       "    </tr>\n",
       "    <tr>\n",
       "      <th>4</th>\n",
       "      <td>1</td>\n",
       "      <td>3</td>\n",
       "      <td>2</td>\n",
       "      <td>2</td>\n",
       "      <td>2</td>\n",
       "      <td>8</td>\n",
       "      <td>5</td>\n",
       "      <td>4</td>\n",
       "      <td>0</td>\n",
       "    </tr>\n",
       "  </tbody>\n",
       "</table>\n",
       "</div>"
      ],
      "text/plain": [
       "   ADMISSION_TYPE  ADMISSION_LOCATION  DISCHARGE_LOCATION  INSURANCE  \\\n",
       "0               0                   2                  11          2   \n",
       "1               0                   2                  11          3   \n",
       "2               1                   3                   8          1   \n",
       "3               0                   2                   4          3   \n",
       "4               1                   3                   2          2   \n",
       "\n",
       "   RELIGION  LANGUAGE  MARITAL_STATUS  ETHNICITY  frequncy  \n",
       "0        13         4               6         13         0  \n",
       "1        10         4               6         13         0  \n",
       "2        13        13               5          7         0  \n",
       "3        12         4               2         13         0  \n",
       "4         2         8               5          4         0  "
      ]
     },
     "execution_count": 25,
     "metadata": {},
     "output_type": "execute_result"
    }
   ],
   "source": [
    "from sklearn import preprocessing\n",
    "\n",
    "# TODO: create a LabelEncoder object and fit it to each feature in cat_df\n",
    "\n",
    "\n",
    "# 1. INSTANTIATE\n",
    "# encode labels with value between 0 and n_classes-1.\n",
    "le = preprocessing.LabelEncoder()\n",
    "\n",
    "\n",
    "# 2/3. FIT AND TRANSFORM\n",
    "# use df.apply() to apply le.fit_transform to all columns\n",
    "cat_df_2 = cat_df.apply(le.fit_transform)\n",
    "cat_df_2.head()"
   ]
  },
  {
   "cell_type": "code",
   "execution_count": 71,
   "metadata": {},
   "outputs": [
    {
     "data": {
      "text/plain": [
       "(372, 89)"
      ]
     },
     "execution_count": 71,
     "metadata": {},
     "output_type": "execute_result"
    }
   ],
   "source": [
    "# TODO: create a OneHotEncoder object, and fit it to all of  cat_df\n",
    "\n",
    "# 1. INSTANTIATE\n",
    "enc = preprocessing.OneHotEncoder()\n",
    "\n",
    "# 2. FIT\n",
    "enc.fit(cat_df_2)\n",
    "\n",
    "# 3. Transform\n",
    "onehotlabels = enc.transform(cat_df_2)\n",
    "onehotlabels.shape"
   ]
  },
  {
   "cell_type": "code",
   "execution_count": 73,
   "metadata": {},
   "outputs": [
    {
     "name": "stdout",
     "output_type": "stream",
     "text": [
      "  (0, 79)\t1.0\n",
      "  (0, 76)\t1.0\n",
      "  (0, 62)\t1.0\n",
      "  (0, 46)\t1.0\n",
      "  (0, 39)\t1.0\n",
      "  (0, 23)\t1.0\n",
      "  (0, 20)\t1.0\n",
      "  (0, 5)\t1.0\n",
      "  (0, 0)\t1.0\n",
      "  (1, 79)\t1.0\n",
      "  (1, 76)\t1.0\n",
      "  (1, 62)\t1.0\n",
      "  (1, 46)\t1.0\n",
      "  (1, 36)\t1.0\n",
      "  (1, 24)\t1.0\n",
      "  (1, 20)\t1.0\n",
      "  (1, 5)\t1.0\n",
      "  (1, 0)\t1.0\n",
      "  (2, 79)\t1.0\n",
      "  (2, 70)\t1.0\n",
      "  (2, 61)\t1.0\n",
      "  (2, 55)\t1.0\n",
      "  (2, 39)\t1.0\n",
      "  (2, 22)\t1.0\n",
      "  (2, 17)\t1.0\n",
      "  :\t:\n",
      "  (369, 56)\t1.0\n",
      "  (369, 46)\t1.0\n",
      "  (369, 28)\t1.0\n",
      "  (369, 24)\t1.0\n",
      "  (369, 20)\t1.0\n",
      "  (369, 3)\t1.0\n",
      "  (369, 1)\t1.0\n",
      "  (370, 80)\t1.0\n",
      "  (370, 67)\t1.0\n",
      "  (370, 61)\t1.0\n",
      "  (370, 46)\t1.0\n",
      "  (370, 39)\t1.0\n",
      "  (370, 23)\t1.0\n",
      "  (370, 17)\t1.0\n",
      "  (370, 6)\t1.0\n",
      "  (370, 1)\t1.0\n",
      "  (371, 79)\t1.0\n",
      "  (371, 65)\t1.0\n",
      "  (371, 58)\t1.0\n",
      "  (371, 43)\t1.0\n",
      "  (371, 32)\t1.0\n",
      "  (371, 23)\t1.0\n",
      "  (371, 13)\t1.0\n",
      "  (371, 5)\t1.0\n",
      "  (371, 1)\t1.0\n"
     ]
    }
   ],
   "source": [
    "print onehotlabels"
   ]
  }
 ],
 "metadata": {
  "kernelspec": {
   "display_name": "Python 2",
   "language": "python",
   "name": "python2"
  },
  "language_info": {
   "codemirror_mode": {
    "name": "ipython",
    "version": 2
   },
   "file_extension": ".py",
   "mimetype": "text/x-python",
   "name": "python",
   "nbconvert_exporter": "python",
   "pygments_lexer": "ipython2",
   "version": "2.7.13"
  }
 },
 "nbformat": 4,
 "nbformat_minor": 2
}
