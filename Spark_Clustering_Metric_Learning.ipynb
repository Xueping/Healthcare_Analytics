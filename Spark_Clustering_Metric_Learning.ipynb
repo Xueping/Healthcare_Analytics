{
 "cells": [
  {
   "cell_type": "code",
   "execution_count": 50,
   "metadata": {
    "collapsed": true
   },
   "outputs": [],
   "source": [
    "from pyspark.sql.functions import col,udf,collect_list\n",
    "\n",
    "from pyspark.ml.feature import IDF, CountVectorizer,StringIndexer\n",
    "from pyspark.ml.clustering import LDA\n",
    "from pyspark.ml.linalg import SparseVector, VectorUDT,DenseVector\n",
    "\n",
    "import numpy as np"
   ]
  },
  {
   "cell_type": "markdown",
   "metadata": {},
   "source": [
    "## 1.Load data to DataFrame"
   ]
  },
  {
   "cell_type": "code",
   "execution_count": 176,
   "metadata": {
    "collapsed": true
   },
   "outputs": [],
   "source": [
    "dias_df = spark.read.csv(\"../../mimic3/data/DIAGNOSES_ICD.csv\", header=True, mode=\"DROPMALFORMED\")\n",
    "dic_ICD_df = spark.read.csv(\"../../mimic3/data/D_ICD_DIAGNOSES.csv\", header=True, mode=\"DROPMALFORMED\")"
   ]
  },
  {
   "cell_type": "markdown",
   "metadata": {},
   "source": [
    "## 2.Data Pre-processing "
   ]
  },
  {
   "cell_type": "code",
   "execution_count": 3,
   "metadata": {
    "collapsed": true
   },
   "outputs": [],
   "source": [
    "dias_df.createOrReplaceTempView(\"diagnosis\")\n",
    "\n",
    "#Fitering the unspecified disgnosis codes\n",
    "filteredDiags = spark.sql(\"SELECT SUBJECT_ID,ICD9_CODE FROM diagnosis WHERE ICD9_CODE not in ('', '4019','7793','2724','2449')\")"
   ]
  },
  {
   "cell_type": "markdown",
   "metadata": {},
   "source": [
    "### 2.1 Extract frequent diagnosis codes"
   ]
  },
  {
   "cell_type": "code",
   "execution_count": 4,
   "metadata": {
    "collapsed": true
   },
   "outputs": [],
   "source": [
    "#Choosing top 500 frequent diagnosis codes.\n",
    "topDiags = filteredDiags.groupBy(\"ICD9_CODE\").count().sort(col(\"count\").desc()).select(\"ICD9_CODE\").limit(500)"
   ]
  },
  {
   "cell_type": "markdown",
   "metadata": {},
   "source": [
    "### 2.2 Extract patients who had the requent diagnosis codes"
   ]
  },
  {
   "cell_type": "code",
   "execution_count": 5,
   "metadata": {
    "collapsed": true
   },
   "outputs": [],
   "source": [
    "#Inner join to get patients who had the top 500 diagnosis codes.\n",
    "top_freq_pats = filteredDiags.join(topDiags, filteredDiags.ICD9_CODE == topDiags.ICD9_CODE, \"inner\").\\\n",
    "                drop(topDiags.ICD9_CODE)"
   ]
  },
  {
   "cell_type": "markdown",
   "metadata": {},
   "source": [
    "### 2.3 Aggregate diagnosis codes list through grouping by \"SUBJECT_ID\""
   ]
  },
  {
   "cell_type": "code",
   "execution_count": 6,
   "metadata": {
    "collapsed": true
   },
   "outputs": [],
   "source": [
    "pats_dias = top_freq_pats.groupBy(\"SUBJECT_ID\").agg(collect_list(\"ICD9_CODE\"))\n",
    "pats_dias = pats_dias.select(col(\"SUBJECT_ID\"),col(\"collect_list(ICD9_CODE)\").alias(\"codes\"))"
   ]
  },
  {
   "cell_type": "markdown",
   "metadata": {},
   "source": [
    "### 2.4 Encode patients and diagnosis codes"
   ]
  },
  {
   "cell_type": "code",
   "execution_count": 22,
   "metadata": {
    "collapsed": true
   },
   "outputs": [],
   "source": [
    "#index subject_id to label\n",
    "indexer = StringIndexer(inputCol=\"SUBJECT_ID\", outputCol=\"label\")\n",
    "indexed = indexer.fit(pats_dias).transform(pats_dias)\n",
    "\n",
    "#terms' count vector\n",
    "vector = CountVectorizer(inputCol=\"codes\", outputCol=\"tf_features\")\n",
    "countVect = vector.fit(indexed)  \n",
    "\n",
    "#get vocaulary\n",
    "vocabs = countVect.vocabulary"
   ]
  },
  {
   "cell_type": "markdown",
   "metadata": {},
   "source": [
    "### 2.5 Frequency of diagnosis codes"
   ]
  },
  {
   "cell_type": "code",
   "execution_count": 23,
   "metadata": {
    "collapsed": true
   },
   "outputs": [],
   "source": [
    "freqVect = countVect.transform(indexed)"
   ]
  },
  {
   "cell_type": "code",
   "execution_count": 24,
   "metadata": {},
   "outputs": [
    {
     "name": "stdout",
     "output_type": "stream",
     "text": [
      "root\n",
      " |-- SUBJECT_ID: string (nullable = true)\n",
      " |-- codes: array (nullable = true)\n",
      " |    |-- element: string (containsNull = true)\n",
      " |-- label: double (nullable = true)\n",
      " |-- tf_features: vector (nullable = true)\n",
      "\n"
     ]
    }
   ],
   "source": [
    "freqVect.printSchema()"
   ]
  },
  {
   "cell_type": "markdown",
   "metadata": {},
   "source": [
    "### 2.6 TF-IDF of diagnosis codes"
   ]
  },
  {
   "cell_type": "code",
   "execution_count": 25,
   "metadata": {
    "collapsed": true
   },
   "outputs": [],
   "source": [
    "# dataset = freqVect.select(col(\"label\"),col(\"features\").alias(\"rawFeatures\"))\n",
    "idf = IDF(inputCol=\"tf_features\", outputCol=\"tfidf_features\")\n",
    "idfModel = idf.fit(freqVect)\n",
    "tf_idfVect = idfModel.transform(freqVect)"
   ]
  },
  {
   "cell_type": "code",
   "execution_count": 26,
   "metadata": {},
   "outputs": [
    {
     "name": "stdout",
     "output_type": "stream",
     "text": [
      "root\n",
      " |-- SUBJECT_ID: string (nullable = true)\n",
      " |-- codes: array (nullable = true)\n",
      " |    |-- element: string (containsNull = true)\n",
      " |-- label: double (nullable = true)\n",
      " |-- tf_features: vector (nullable = true)\n",
      " |-- tfidf_features: vector (nullable = true)\n",
      "\n"
     ]
    }
   ],
   "source": [
    "# tf_idfVect = tf_idfVect.selectExpr(\"features as TFIDF_features\")\n",
    "tf_idfVect.printSchema()"
   ]
  },
  {
   "cell_type": "markdown",
   "metadata": {},
   "source": [
    "### 2.7 OneHot of diagnosis codes"
   ]
  },
  {
   "cell_type": "code",
   "execution_count": 31,
   "metadata": {
    "collapsed": true
   },
   "outputs": [],
   "source": [
    "def to_sparse(c):\n",
    "    def to_sparse_(v):\n",
    "#         if isinstance(v, SparseVector):\n",
    "#             return v\n",
    "        vs = (v.toArray()>0)*1\n",
    "        nonzero = np.nonzero(vs)[0]\n",
    "        return SparseVector(v.size, nonzero, vs[nonzero])\n",
    "    return udf(to_sparse_, VectorUDT())(c)\n",
    "\n",
    "oneHot_freqVect = tf_idfVect.withColumn(\"oneHot_features\",to_sparse(tf_idfVect.tf_features))"
   ]
  },
  {
   "cell_type": "markdown",
   "metadata": {},
   "source": [
    "### 2.8 AutoEncoders of diagnosis codes"
   ]
  },
  {
   "cell_type": "code",
   "execution_count": 35,
   "metadata": {},
   "outputs": [
    {
     "name": "stderr",
     "output_type": "stream",
     "text": [
      "Using TensorFlow backend.\n"
     ]
    }
   ],
   "source": [
    "from keras.layers import Input, Dense\n",
    "from keras.models import Model\n",
    "\n",
    "# this is the size of our encoded representations\n",
    "encoding_dim = 32 \n",
    "\n",
    "# this is our input placeholder\n",
    "input_patient = Input(shape=(500,))\n",
    "# \"encoded\" is the encoded representation of the input\n",
    "encoded = Dense(encoding_dim, activation='relu')(input_patient)\n",
    "# \"decoded\" is the lossy reconstruction of the input\n",
    "decoded = Dense(500, activation='sigmoid')(encoded)\n",
    "\n",
    "# this model maps an input to its reconstruction\n",
    "autoencoder = Model(input_patient, decoded)"
   ]
  },
  {
   "cell_type": "code",
   "execution_count": 152,
   "metadata": {
    "collapsed": true
   },
   "outputs": [],
   "source": [
    "autoencoder.compile(optimizer='adadelta', loss='binary_crossentropy')"
   ]
  },
  {
   "cell_type": "markdown",
   "metadata": {},
   "source": [
    "#### Converting Spark ML Vector to Numpy Array"
   ]
  },
  {
   "cell_type": "code",
   "execution_count": 98,
   "metadata": {},
   "outputs": [],
   "source": [
    "#Converting to Panda’s dataframe\n",
    "array_features = oneHot_freqVect.select('oneHot_features').toPandas()"
   ]
  },
  {
   "cell_type": "code",
   "execution_count": 154,
   "metadata": {},
   "outputs": [],
   "source": [
    "#Convert Sparse Vector to Matrix\n",
    "dataset = array_features['oneHot_features'].apply(lambda x : x.toArray()).as_matrix().reshape(-1,1)\n",
    "\n",
    "#Flatten using apply_along_axis\n",
    "features = np.apply_along_axis(lambda x : x[0], 1, dataset)"
   ]
  },
  {
   "cell_type": "code",
   "execution_count": 157,
   "metadata": {},
   "outputs": [],
   "source": [
    "from sklearn.model_selection import train_test_split\n",
    "\n",
    "X_train, X_test = train_test_split(features, test_size=0.20, random_state=42)"
   ]
  },
  {
   "cell_type": "code",
   "execution_count": 158,
   "metadata": {},
   "outputs": [
    {
     "name": "stdout",
     "output_type": "stream",
     "text": [
      "Train on 36904 samples, validate on 9227 samples\n",
      "Epoch 1/50\n",
      "36904/36904 [==============================] - 1s 34us/step - loss: 0.6512 - val_loss: 0.5348\n",
      "Epoch 2/50\n",
      "36904/36904 [==============================] - 1s 25us/step - loss: 0.2810 - val_loss: 0.1377\n",
      "Epoch 3/50\n",
      "36904/36904 [==============================] - 1s 26us/step - loss: 0.1160 - val_loss: 0.1035\n",
      "Epoch 4/50\n",
      "36904/36904 [==============================] - 1s 26us/step - loss: 0.1002 - val_loss: 0.0963\n",
      "Epoch 5/50\n",
      "36904/36904 [==============================] - 1s 26us/step - loss: 0.0951 - val_loss: 0.0925\n",
      "Epoch 6/50\n",
      "36904/36904 [==============================] - 1s 27us/step - loss: 0.0918 - val_loss: 0.0898\n",
      "Epoch 7/50\n",
      "36904/36904 [==============================] - 1s 27us/step - loss: 0.0892 - val_loss: 0.0875\n",
      "Epoch 8/50\n",
      "36904/36904 [==============================] - 1s 27us/step - loss: 0.0870 - val_loss: 0.0855\n",
      "Epoch 9/50\n",
      "36904/36904 [==============================] - 1s 26us/step - loss: 0.0851 - val_loss: 0.0837\n",
      "Epoch 10/50\n",
      "36904/36904 [==============================] - 1s 26us/step - loss: 0.0833 - val_loss: 0.0821\n",
      "Epoch 11/50\n",
      "36904/36904 [==============================] - 1s 26us/step - loss: 0.0818 - val_loss: 0.0808\n",
      "Epoch 12/50\n",
      "36904/36904 [==============================] - 1s 26us/step - loss: 0.0805 - val_loss: 0.0796\n",
      "Epoch 13/50\n",
      "36904/36904 [==============================] - 1s 26us/step - loss: 0.0794 - val_loss: 0.0786\n",
      "Epoch 14/50\n",
      "36904/36904 [==============================] - 1s 27us/step - loss: 0.0784 - val_loss: 0.0777\n",
      "Epoch 15/50\n",
      "36904/36904 [==============================] - 1s 26us/step - loss: 0.0775 - val_loss: 0.0769\n",
      "Epoch 16/50\n",
      "36904/36904 [==============================] - 1s 26us/step - loss: 0.0768 - val_loss: 0.0762\n",
      "Epoch 17/50\n",
      "36904/36904 [==============================] - 1s 26us/step - loss: 0.0761 - val_loss: 0.0755\n",
      "Epoch 18/50\n",
      "36904/36904 [==============================] - 1s 27us/step - loss: 0.0754 - val_loss: 0.0749\n",
      "Epoch 19/50\n",
      "36904/36904 [==============================] - 1s 26us/step - loss: 0.0748 - val_loss: 0.0743\n",
      "Epoch 20/50\n",
      "36904/36904 [==============================] - 1s 26us/step - loss: 0.0743 - val_loss: 0.0738\n",
      "Epoch 21/50\n",
      "36904/36904 [==============================] - 1s 27us/step - loss: 0.0738 - val_loss: 0.0733\n",
      "Epoch 22/50\n",
      "36904/36904 [==============================] - 1s 26us/step - loss: 0.0733 - val_loss: 0.0729\n",
      "Epoch 23/50\n",
      "36904/36904 [==============================] - 1s 27us/step - loss: 0.0729 - val_loss: 0.0724\n",
      "Epoch 24/50\n",
      "36904/36904 [==============================] - 1s 26us/step - loss: 0.0724 - val_loss: 0.0720\n",
      "Epoch 25/50\n",
      "36904/36904 [==============================] - 1s 26us/step - loss: 0.0720 - val_loss: 0.0716\n",
      "Epoch 26/50\n",
      "36904/36904 [==============================] - 1s 26us/step - loss: 0.0717 - val_loss: 0.0713\n",
      "Epoch 27/50\n",
      "36904/36904 [==============================] - 1s 27us/step - loss: 0.0713 - val_loss: 0.0709\n",
      "Epoch 28/50\n",
      "36904/36904 [==============================] - 1s 27us/step - loss: 0.0710 - val_loss: 0.0706\n",
      "Epoch 29/50\n",
      "36904/36904 [==============================] - 1s 26us/step - loss: 0.0706 - val_loss: 0.0703\n",
      "Epoch 30/50\n",
      "36904/36904 [==============================] - 1s 27us/step - loss: 0.0703 - val_loss: 0.0700\n",
      "Epoch 31/50\n",
      "36904/36904 [==============================] - 1s 27us/step - loss: 0.0700 - val_loss: 0.0697\n",
      "Epoch 32/50\n",
      "36904/36904 [==============================] - 1s 28us/step - loss: 0.0697 - val_loss: 0.0694\n",
      "Epoch 33/50\n",
      "36904/36904 [==============================] - 1s 27us/step - loss: 0.0694 - val_loss: 0.0691\n",
      "Epoch 34/50\n",
      "36904/36904 [==============================] - 1s 26us/step - loss: 0.0692 - val_loss: 0.0688\n",
      "Epoch 35/50\n",
      "36904/36904 [==============================] - 1s 26us/step - loss: 0.0689 - val_loss: 0.0686\n",
      "Epoch 36/50\n",
      "36904/36904 [==============================] - 1s 26us/step - loss: 0.0687 - val_loss: 0.0683\n",
      "Epoch 37/50\n",
      "36904/36904 [==============================] - 1s 26us/step - loss: 0.0684 - val_loss: 0.0681\n",
      "Epoch 38/50\n",
      "36904/36904 [==============================] - 1s 28us/step - loss: 0.0682 - val_loss: 0.0678\n",
      "Epoch 39/50\n",
      "36904/36904 [==============================] - 1s 27us/step - loss: 0.0679 - val_loss: 0.0676\n",
      "Epoch 40/50\n",
      "36904/36904 [==============================] - 1s 27us/step - loss: 0.0677 - val_loss: 0.0674\n",
      "Epoch 41/50\n",
      "36904/36904 [==============================] - 1s 27us/step - loss: 0.0675 - val_loss: 0.0672\n",
      "Epoch 42/50\n",
      "36904/36904 [==============================] - 1s 27us/step - loss: 0.0673 - val_loss: 0.0670\n",
      "Epoch 43/50\n",
      "36904/36904 [==============================] - 1s 27us/step - loss: 0.0671 - val_loss: 0.0668\n",
      "Epoch 44/50\n",
      "36904/36904 [==============================] - 1s 27us/step - loss: 0.0668 - val_loss: 0.0666\n",
      "Epoch 45/50\n",
      "36904/36904 [==============================] - 1s 27us/step - loss: 0.0666 - val_loss: 0.0664\n",
      "Epoch 46/50\n",
      "36904/36904 [==============================] - 1s 27us/step - loss: 0.0664 - val_loss: 0.0662\n",
      "Epoch 47/50\n",
      "36904/36904 [==============================] - 1s 27us/step - loss: 0.0662 - val_loss: 0.0660\n",
      "Epoch 48/50\n",
      "36904/36904 [==============================] - 1s 27us/step - loss: 0.0661 - val_loss: 0.0658\n",
      "Epoch 49/50\n",
      "36904/36904 [==============================] - 1s 26us/step - loss: 0.0659 - val_loss: 0.0656\n",
      "Epoch 50/50\n",
      "36904/36904 [==============================] - 1s 26us/step - loss: 0.0657 - val_loss: 0.0654\n"
     ]
    },
    {
     "data": {
      "text/plain": [
       "<keras.callbacks.History at 0x2b369333f850>"
      ]
     },
     "execution_count": 158,
     "metadata": {},
     "output_type": "execute_result"
    }
   ],
   "source": [
    "autoencoder.fit(X_train, X_train,\n",
    "                epochs=50,\n",
    "                batch_size=256,\n",
    "                shuffle=True,\n",
    "                validation_data=(X_test, X_test))"
   ]
  },
  {
   "cell_type": "code",
   "execution_count": 161,
   "metadata": {},
   "outputs": [],
   "source": [
    "# this model maps an input to its encoded representation\n",
    "encoder = Model(input_patient, encoded)\n",
    "\n",
    "# create a placeholder for an encoded (32-dimensional) input\n",
    "encoded_input = Input(shape=(encoding_dim,))\n",
    "# retrieve the last layer of the autoencoder model\n",
    "decoder_layer = autoencoder.layers[-1]\n",
    "# create the decoder model\n",
    "decoder = Model(encoded_input, decoder_layer(encoded_input))"
   ]
  },
  {
   "cell_type": "code",
   "execution_count": 164,
   "metadata": {
    "collapsed": true
   },
   "outputs": [],
   "source": [
    "# encode and decode some digits\n",
    "# note that we take them from the *test* set\n",
    "encoded_patients = encoder.predict(X_test)\n",
    "# decoded_patients = decoder.predict(encoded_patients)"
   ]
  },
  {
   "cell_type": "code",
   "execution_count": 167,
   "metadata": {},
   "outputs": [
    {
     "data": {
      "text/plain": [
       "(9227, 32)"
      ]
     },
     "execution_count": 167,
     "metadata": {},
     "output_type": "execute_result"
    }
   ],
   "source": [
    "encoded_patient.shape"
   ]
  },
  {
   "cell_type": "code",
   "execution_count": 168,
   "metadata": {},
   "outputs": [
    {
     "name": "stdout",
     "output_type": "stream",
     "text": [
      "root\n",
      " |-- SUBJECT_ID: string (nullable = true)\n",
      " |-- codes: array (nullable = true)\n",
      " |    |-- element: string (containsNull = true)\n",
      " |-- label: double (nullable = true)\n",
      " |-- tf_features: vector (nullable = true)\n",
      " |-- tfidf_features: vector (nullable = true)\n",
      " |-- oneHot_features: vector (nullable = true)\n",
      "\n"
     ]
    }
   ],
   "source": [
    "oneHot_freqVect.printSchema()"
   ]
  },
  {
   "cell_type": "markdown",
   "metadata": {},
   "source": [
    "### 2.9 Topic Model of diagnosis codes"
   ]
  },
  {
   "cell_type": "code",
   "execution_count": 169,
   "metadata": {
    "collapsed": true
   },
   "outputs": [],
   "source": [
    "dataset = oneHot_freqVect.select(col(\"label\"),col(\"tf_features\").alias(\"features\"))\n",
    "\n",
    "#train LDA model\n",
    "lda_mimic = LDA(k=10, maxIter=10)\n",
    "model_mimic = lda_mimic.fit(dataset)"
   ]
  },
  {
   "cell_type": "code",
   "execution_count": 170,
   "metadata": {
    "collapsed": true
   },
   "outputs": [],
   "source": [
    "# Describe topics.\n",
    "tf_topics = model_mimic.describeTopics(10)"
   ]
  },
  {
   "cell_type": "code",
   "execution_count": 172,
   "metadata": {},
   "outputs": [],
   "source": [
    "#get distribution matrix of documents to topics\n",
    "docTopics = model_mimic.transform(dataset)"
   ]
  },
  {
   "cell_type": "code",
   "execution_count": 175,
   "metadata": {},
   "outputs": [
    {
     "name": "stdout",
     "output_type": "stream",
     "text": [
      "+-------+---------------------------------------------------------------------------------------------------------------------------------------------------------------------------------------------------------------------------------------------------------+-------------------------------------------------------------------------------------------------------------------------------------------------------------------------------------------------------------------+\n",
      "|label  |features                                                                                                                                                                                                                                                 |topicDistribution                                                                                                                                                                                                  |\n",
      "+-------+---------------------------------------------------------------------------------------------------------------------------------------------------------------------------------------------------------------------------------------------------------+-------------------------------------------------------------------------------------------------------------------------------------------------------------------------------------------------------------------+\n",
      "|9643.0 |(500,[2,7,39,51,231],[1.0,1.0,1.0,1.0,1.0])                                                                                                                                                                                                              |[0.015842058242203517,0.016501774283734033,0.01585484648179474,0.0161608082043522,0.8553381337797175,0.01572671365699597,0.01628986758757189,0.0163474316759914,0.015889007717958464,0.016049358369680352]         |\n",
      "|19592.0|(500,[9,10,32,268,301],[1.0,1.0,1.0,1.0,1.0])                                                                                                                                                                                                            |[0.015841081804221755,0.016498415097357267,0.015853403349193267,0.01615915865911844,0.01709699504004524,0.015724782809050878,0.016287216620106796,0.8546042513921631,0.015886863765574747,0.016047831463168433]    |\n",
      "|28247.0|(500,[78,212],[1.0,1.0])                                                                                                                                                                                                                                 |[0.031870883483533764,0.7077746516789171,0.031895609155798886,0.03251047724779858,0.034397717018072746,0.03163655371504596,0.032768282575198385,0.03288770025045715,0.0319693054285664,0.0322888194466109]         |\n",
      "|43282.0|(500,[9,10,32,52],[1.0,1.0,1.0,1.0])                                                                                                                                                                                                                     |[0.01903180273214217,0.01982152339501042,0.019046506464524195,0.019413931719509416,0.02054066994774592,0.018892058856955107,0.01956779072611374,0.8253187136867012,0.019086836951659882,0.019280165519637908]      |\n",
      "|44246.0|(500,[2,4,28,30,154,278],[1.0,1.0,1.0,1.0,1.0,1.0])                                                                                                                                                                                                      |[0.013567137168769472,0.014130306095547803,0.013584666874722746,0.013841308532377248,0.8761066771389958,0.013468318746296037,0.013950667440111662,0.013999894527329537,0.013606552362772731,0.013744471113077071]  |\n",
      "|7917.0 |(500,[0,1,63,287,308,435],[1.0,1.0,1.0,1.0,1.0,1.0])                                                                                                                                                                                                     |[0.013573405758303323,0.014131564938966616,0.013578536922204298,0.013841119071301557,0.014648122590583066,0.013467682779067694,0.7590510065853034,0.013999722072075756,0.013607816587767113,0.1301010226944271]    |\n",
      "|930.0  |(500,[4,5,15,16,33,97,187,229,259,311,411,437],[2.0,1.0,1.0,1.0,1.0,1.0,1.0,1.0,1.0,1.0,1.0,1.0])                                                                                                                                                        |[0.6214588974196963,0.007049216033166928,0.006771656005381227,0.006903966961746081,0.0073039748411182865,0.006717880369727145,0.3231710242278438,0.006982219990636674,0.0067862839319554275,0.006854880218728188]  |\n",
      "|33288.0|(500,[105,169],[1.0,1.0])                                                                                                                                                                                                                                |[0.031870967468012115,0.033198919638279804,0.031898663651909305,0.03251821347732382,0.7089553386852675,0.0316381938095505,0.03277527431867895,0.032888056062473116,0.031969691357703174,0.03228668153080159]       |\n",
      "|12808.0|(500,[0,1,2,3,4,5,7,11,12,13,14,15,23,28,29,30,34,35,39,42,46,48,50,51,72,103,108,143,150,163,264,362,393,429],[3.0,1.0,2.0,1.0,1.0,1.0,1.0,1.0,1.0,1.0,1.0,3.0,2.0,2.0,1.0,1.0,2.0,1.0,1.0,1.0,1.0,1.0,2.0,1.0,1.0,1.0,1.0,1.0,1.0,2.0,1.0,1.0,1.0,1.0])|[0.002101568833001558,0.0021889023460341587,0.0021033093009599248,0.17909840765730287,0.5509444440884138,0.0020861634722231493,0.2550721007454433,0.0021684823089350175,0.0021076043148394556,0.002129016932846886]|\n",
      "|4710.0 |(500,[9,10,20,52,327],[1.0,1.0,1.0,1.0,1.0])                                                                                                                                                                                                             |[0.015841109329728095,0.016498415189320527,0.01585333062064013,0.016159154740386976,0.017096995459530303,0.01572478890079456,0.01628721794363988,0.8546043492115719,0.015886819473585015,0.016047819130802728]     |\n",
      "|26450.0|(500,[10,20,208,268],[1.0,1.0,1.0,1.0])                                                                                                                                                                                                                  |[0.019031814130532836,0.019821529156275042,0.0190466079879634,0.019413934504113176,0.02054067331041785,0.01889216151388704,0.019567788024034537,0.8253185737085991,0.01908673734242952,0.01928018032174756]        |\n",
      "|22296.0|(500,[9,10,20,327],[1.0,1.0,1.0,1.0])                                                                                                                                                                                                                    |[0.0190318288892182,0.019821527004160646,0.019046515661981383,0.019413931153832168,0.020540673609548855,0.01889208925665442,0.019567787416762107,0.8253187542901217,0.01908671737305478,0.019280175344665633]      |\n",
      "|4656.0 |(500,[1,16,33,36,39,41,57,70,100,231,235,247,320,369,382,412],[1.0,1.0,1.0,1.0,1.0,1.0,1.0,1.0,1.0,1.0,1.0,1.0,1.0,1.0,1.0,1.0])                                                                                                                         |[0.005570068171340307,0.005802671619702086,0.08833264056359143,0.612461686164652,0.2595976390310072,0.005529745465283275,0.00572774540565643,0.0057477185208410836,0.005586863814044985,0.005643221243881324]      |\n",
      "|36761.0|(500,[0,2,3,4,5,6,28,34,35,106,138,215,227,231,254,272],[2.0,3.0,1.0,1.0,1.0,2.0,1.0,1.0,1.0,1.0,1.0,1.0,2.0,1.0,1.0,1.0])                                                                                                                               |[0.004302134724666513,0.004481285570335863,0.24844927938878458,0.004389059037836535,0.7165709519662308,0.004270917321023518,0.004424229325465548,0.004439180504711288,0.004314544596883946,0.004358417564061484]   |\n",
      "|24348.0|(500,[24,77,141,175,374],[1.0,1.0,1.0,1.0,1.0])                                                                                                                                                                                                          |[0.01584194312971311,0.6260804483190926,0.015854232241922846,0.016160934608481756,0.01710014167774537,0.015725678147912772,0.0162888436821401,0.01634699298091395,0.015888508753568186,0.24471227645850924]        |\n",
      "|23982.0|(500,[182],[1.0])                                                                                                                                                                                                                                        |[0.5570357817234601,0.050088676395287156,0.048133303995477175,0.04905860799719704,0.05190487409869657,0.04774079140481658,0.049447351436998056,0.04962646225287382,0.04823162736120153,0.048732523333991855]       |\n",
      "|37341.0|(500,[6,11,19,68,77,122,199,216,385],[1.0,1.0,1.0,1.0,1.0,1.0,1.0,1.0,1.0])                                                                                                                                                                              |[0.009483014178486328,0.9130507894546168,0.009490108911003882,0.009673608041832328,0.010235346240659427,0.00941314659367457,0.009750424949898232,0.009785061535688519,0.009511303262718967,0.009607196831420951]   |\n",
      "|19468.0|(500,[0,2,51,59,254],[1.0,1.0,1.0,1.0,1.0])                                                                                                                                                                                                              |[0.01584167780691006,0.01650011813287602,0.01585429582112204,0.016160571813882946,0.8553433510747147,0.01572548068525697,0.016290630829944225,0.01634731935738903,0.01588809644407933,0.016048458033824615]        |\n",
      "|1975.0 |(500,[20],[1.0])                                                                                                                                                                                                                                         |[0.0480919545376159,0.05008724367648027,0.048129011942422396,0.0490572868017753,0.05190447903859069,0.047738861670779335,0.04944607140747934,0.5585955475736709,0.04823029615970756,0.04871924719147829]           |\n",
      "|4922.0 |(500,[4,5,225],[1.0,1.0,1.0])                                                                                                                                                                                                                            |[0.7804296501887176,0.024839449219534356,0.02385206732731462,0.024320545741301915,0.02573112529784314,0.023663098680388336,0.024517529777170175,0.024593447086871972,0.0239058693841194,0.024147217296738546]      |\n",
      "+-------+---------------------------------------------------------------------------------------------------------------------------------------------------------------------------------------------------------------------------------------------------------+-------------------------------------------------------------------------------------------------------------------------------------------------------------------------------------------------------------------+\n",
      "only showing top 20 rows\n",
      "\n"
     ]
    }
   ],
   "source": [
    "docTopics.show(truncate=False)"
   ]
  }
 ],
 "metadata": {
  "kernelspec": {
   "display_name": "Python 2",
   "language": "python",
   "name": "python2"
  },
  "language_info": {
   "codemirror_mode": {
    "name": "ipython",
    "version": 2
   },
   "file_extension": ".py",
   "mimetype": "text/x-python",
   "name": "python",
   "nbconvert_exporter": "python",
   "pygments_lexer": "ipython2",
   "version": "2.7.13"
  }
 },
 "nbformat": 4,
 "nbformat_minor": 2
}
