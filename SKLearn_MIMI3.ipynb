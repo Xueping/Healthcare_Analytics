{
 "cells": [
  {
   "cell_type": "markdown",
   "metadata": {},
   "source": [
    "Loading Data in pandas (no parallel)"
   ]
  },
  {
   "cell_type": "code",
   "execution_count": null,
   "metadata": {
    "collapsed": true
   },
   "outputs": [],
   "source": [
    "import numpy as np\n",
    "import pandas as pd\n",
    "from sklearn import model_selection, preprocessing"
   ]
  },
  {
   "cell_type": "code",
   "execution_count": null,
   "metadata": {
    "collapsed": true
   },
   "outputs": [],
   "source": [
    "patients = pd.read_csv('../mimic3/data/PATIENTS.csv')\n",
    "admissions = pd.read_csv('../mimic3/data/ADMISSIONS.csv')\n",
    "icustays = pd.read_csv('../mimic3/data/ICUSTAYS.csv')\n",
    "servs = pd.read_csv('../mimic3/data/SERVICES.csv')\n",
    "trans = pd.read_csv('../mimic3/data/TRANSFERS.csv')\n",
    "drgCodes = pd.read_csv('../mimic3/data/DRGCODES.csv')\n",
    "dias = pd.read_csv('../mimic3/data/DIAGNOSES_ICD.csv')\n",
    "pres = pd.read_csv('../mimic3/data/PRESCRIPTIONS.csv')"
   ]
  }
 ],
 "metadata": {
  "kernelspec": {
   "display_name": "Python 2",
   "language": "python",
   "name": "python2"
  },
  "language_info": {
   "codemirror_mode": {
    "name": "ipython",
    "version": 2
   },
   "file_extension": ".py",
   "mimetype": "text/x-python",
   "name": "python",
   "nbconvert_exporter": "python",
   "pygments_lexer": "ipython2",
   "version": "2.7.13"
  }
 },
 "nbformat": 4,
 "nbformat_minor": 2
}
