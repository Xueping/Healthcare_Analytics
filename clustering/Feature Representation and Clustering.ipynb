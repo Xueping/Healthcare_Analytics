{
 "cells": [
  {
   "cell_type": "code",
   "execution_count": 13,
   "metadata": {
    "collapsed": true
   },
   "outputs": [],
   "source": [
    "from metric_learn import Covariance\n",
    "from metric_learn import LMNN\n",
    "from sklearn.datasets import load_iris\n",
    "\n",
    "\n",
    "def baseLearning():\n",
    "    iris = load_iris()['data']\n",
    "    print iris\n",
    "    \n",
    "    cov = Covariance().fit(iris)\n",
    "    x = cov.transform(iris)\n",
    "    print x\n",
    "    \n",
    "def lmnns():\n",
    "    iris_data = load_iris()\n",
    "    X = iris_data['data']\n",
    "    Y = iris_data['target']\n",
    "    \n",
    "    lmnn = LMNN(k=5, learn_rate=1e-6)\n",
    "    metricLMNN = lmnn.fit(X, Y)\n",
    "    x = metricLMNN.transform(X)\n",
    "    return x"
   ]
  },
  {
   "cell_type": "code",
   "execution_count": 14,
   "metadata": {},
   "outputs": [
    {
     "data": {
      "text/plain": [
       "numpy.ndarray"
      ]
     },
     "execution_count": 14,
     "metadata": {},
     "output_type": "execute_result"
    }
   ],
   "source": [
    "type(lmnns())"
   ]
  },
  {
   "cell_type": "code",
   "execution_count": 18,
   "metadata": {},
   "outputs": [],
   "source": [
    "import codecs, json \n",
    "matr = lmnns()\n",
    "outputfilename = \"kmeans_pca.json\"\n",
    "\n",
    "b = matr.tolist() # nested lists with same data, indices\n",
    "json.dump(b, codecs.open(outputfilename, 'w', encoding='utf-8'), separators=(',', ':'), sort_keys=True, indent=4)"
   ]
  },
  {
   "cell_type": "code",
   "execution_count": 8,
   "metadata": {},
   "outputs": [],
   "source": [
    "matr"
   ]
  }
 ],
 "metadata": {
  "kernelspec": {
   "display_name": "Python 3",
   "language": "python",
   "name": "python3"
  },
  "language_info": {
   "codemirror_mode": {
    "name": "ipython",
    "version": 3
   },
   "file_extension": ".py",
   "mimetype": "text/x-python",
   "name": "python",
   "nbconvert_exporter": "python",
   "pygments_lexer": "ipython3",
   "version": "3.6.1"
  }
 },
 "nbformat": 4,
 "nbformat_minor": 2
}
