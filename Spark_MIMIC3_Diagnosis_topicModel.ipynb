{
 "cells": [
  {
   "cell_type": "markdown",
   "metadata": {},
   "source": [
    "# Run Spark ML LDA on MIMIC3"
   ]
  },
  {
   "cell_type": "markdown",
   "metadata": {
    "collapsed": true
   },
   "source": [
    "## 0. Import libraries."
   ]
  },
  {
   "cell_type": "code",
   "execution_count": 1,
   "metadata": {
    "collapsed": true
   },
   "outputs": [],
   "source": [
    "from pyspark.ml.feature import IDF\n",
    "from pyspark.sql import functions as f\n",
    "\n",
    "from pyspark.ml.feature import CountVectorizer,StringIndexer\n",
    "from pyspark.ml.clustering import LDA"
   ]
  },
  {
   "cell_type": "markdown",
   "metadata": {},
   "source": [
    "## 1. Load data to DataFrame."
   ]
  },
  {
   "cell_type": "code",
   "execution_count": 2,
   "metadata": {
    "collapsed": true
   },
   "outputs": [],
   "source": [
    "# charts_df = (sqlContext.read\n",
    "#          .format(\"com.databricks.spark.csv\")\n",
    "#          .option(\"header\", \"true\")\n",
    "#          .load(\"../../mimic3/data/CHARTEVENTS.csv\"))\n",
    "\n",
    "# adm_df = (sqlContext.read\n",
    "#          .format(\"com.databricks.spark.csv\")\n",
    "#          .option(\"header\", \"true\")\n",
    "#          .load(\"../../mimic3/data/ADMISSIONS.csv\"))\n",
    "\n",
    "dias_df = spark.read.csv(\"../../mimic3/data/DIAGNOSES_ICD.csv\", header=True, mode=\"DROPMALFORMED\")\n",
    "# pats_df = spark.read.csv(\"../../mimic3/data/PATIENTS.csv\", header=True, mode=\"DROPMALFORMED\")\n",
    "# icu_df = spark.read.csv(\"../../mimic3/data/ICUSTAYS.csv\", header=True, mode=\"DROPMALFORMED\")\n",
    "dic_ICD_df = spark.read.csv(\"../../mimic3/data/D_ICD_DIAGNOSES.csv\", header=True, mode=\"DROPMALFORMED\")"
   ]
  },
  {
   "cell_type": "markdown",
   "metadata": {},
   "source": [
    "## 2. Check if ICD9_code has description"
   ]
  },
  {
   "cell_type": "code",
   "execution_count": 3,
   "metadata": {},
   "outputs": [
    {
     "data": {
      "text/plain": [
       "0"
      ]
     },
     "execution_count": 3,
     "metadata": {},
     "output_type": "execute_result"
    }
   ],
   "source": [
    "# dic_ICD_df.printSchema()\n",
    "# dic_ICD_df.show(truncate = False)\n",
    "dic_ICD_df.where(dic_ICD_df[\"ICD9_CODE\"] == \"7793\").count()"
   ]
  },
  {
   "cell_type": "markdown",
   "metadata": {},
   "source": [
    "## 3. Aggregate diagnosis codes list through grouping by \"SUBJECT_ID\"."
   ]
  },
  {
   "cell_type": "markdown",
   "metadata": {},
   "source": [
    "### 3.1 Filtering noisy disease codes\n",
    "\n",
    "There are two ways to filter noisy disease codes. One is to filter noisy codes in data pre-processing stage, which means filtering the noisy codes before topic modelling being executed. Another is to filter noisy codes in display stage, which means filtering the noisy codes during display after topic modelling being executed.\n",
    "\n",
    "The Pros and Cons:\n",
    "\n",
    "   The first way reduces the data size, and improves running performance. However, the hidden relationships among diagnosis codes are removed. The codes show as follow:\n",
    "   \n",
    "```python\n",
    "filteredDiags = spark.sql(\"SELECT ICD9_CODE,SUBJECT_ID FROM diagnosis WHERE ICD9_CODE not in ('', '4019','7793','2724','2449')\")\n",
    "```\n",
    "\n",
    "   The second way keeps all dataset runnning topic modelling and does not distroy the hidden relationships. However, this way only masks the noisy diagnosis codes not to display. The codes show as follow:\n",
    "   \n",
    "```python\n",
    "noisyWordList = ['4019','7793','2724','2449','0389','5849','2875','4280','30560']\n",
    "...\n",
    "if ... and vocabs[terms[k]] not in noisyWordList:\n",
    "```\n"
   ]
  },
  {
   "cell_type": "code",
   "execution_count": 4,
   "metadata": {
    "collapsed": true
   },
   "outputs": [],
   "source": [
    "dias_df.createOrReplaceTempView(\"diagnosis\")\n",
    "\n",
    "#Fitering the unspecified disgnosis codes\n",
    "filteredDiags = spark.sql(\"SELECT SUBJECT_ID,ICD9_CODE FROM diagnosis WHERE ICD9_CODE not in ('', '4019','7793','2724','2449')\")"
   ]
  },
  {
   "cell_type": "code",
   "execution_count": 45,
   "metadata": {},
   "outputs": [],
   "source": [
    "from pyspark.sql.functions import col\n",
    "#Choosing top 500 frequent diagnosis codes.\n",
    "topDiags = filteredDiags.groupBy(\"ICD9_CODE\").count().sort(col(\"count\").desc()).select(\"ICD9_CODE\").limit(500)"
   ]
  },
  {
   "cell_type": "code",
   "execution_count": 49,
   "metadata": {},
   "outputs": [],
   "source": [
    "#Inner join to get patients who had the top 500 diagnosis codes.\n",
    "top_freq_pats = filteredDiags.join(topDiags, filteredDiags.ICD9_CODE == topDiags.ICD9_CODE, \"inner\").\\\n",
    "                drop(topDiags.ICD9_CODE)"
   ]
  },
  {
   "cell_type": "code",
   "execution_count": 50,
   "metadata": {
    "collapsed": true
   },
   "outputs": [],
   "source": [
    "pats_dias = top_freq_pats.groupBy(\"SUBJECT_ID\").agg(f.collect_list(\"ICD9_CODE\"))\n",
    "pats_dias = pats_dias.select(f.col(\"SUBJECT_ID\"),f.col(\"collect_list(ICD9_CODE)\").alias(\"codes\"))"
   ]
  },
  {
   "cell_type": "code",
   "execution_count": 51,
   "metadata": {},
   "outputs": [
    {
     "name": "stdout",
     "output_type": "stream",
     "text": [
      "+----------+---------+\n",
      "|SUBJECT_ID|ICD9_CODE|\n",
      "+----------+---------+\n",
      "|       109|      486|\n",
      "|       109|     4254|\n",
      "|       109|     2762|\n",
      "|       109|     7100|\n",
      "|       109|     2767|\n",
      "|       109|    45829|\n",
      "|       109|     2875|\n",
      "|       109|    28521|\n",
      "|       109|    28529|\n",
      "|       109|    27541|\n",
      "|       109|     5856|\n",
      "|       109|    58381|\n",
      "|       109|     7100|\n",
      "|       109|     2875|\n",
      "|       109|    28521|\n",
      "|       109|    45829|\n",
      "|       109|    32723|\n",
      "|       109|    33829|\n",
      "|       109|    79092|\n",
      "|       109|    V4511|\n",
      "+----------+---------+\n",
      "only showing top 20 rows\n",
      "\n"
     ]
    }
   ],
   "source": [
    "top_freq_pats.toPandas().to_csv(\"data/usa_data.csv\", index=False)\n",
    "top_freq_pats.show()"
   ]
  },
  {
   "cell_type": "code",
   "execution_count": 52,
   "metadata": {},
   "outputs": [
    {
     "name": "stdout",
     "output_type": "stream",
     "text": [
      "+----------+--------------------+\n",
      "|SUBJECT_ID|               codes|\n",
      "+----------+--------------------+\n",
      "|     10096|[4260, 41401, 530...|\n",
      "|     10351|[7661, V290, V293...|\n",
      "|     10436|         [431, 3314]|\n",
      "|      1090|[V3001, V502, V05...|\n",
      "|     11078|[41071, 41401, 42...|\n",
      "|     11332|[99811, 48283, 42...|\n",
      "|     11563|[51881, 03849, 57...|\n",
      "|      1159|        [2948, 3659]|\n",
      "|     11722|[41071, 53140, 42...|\n",
      "|     11888|[V3000, V290, V50...|\n",
      "|     12394|[V3000, 77089, V2...|\n",
      "|     12529|[V3000, V290, V05...|\n",
      "|     12847|[03811, 4210, 785...|\n",
      "|     13192|[41071, 5849, 403...|\n",
      "|     13282|[41519, 340, 2765...|\n",
      "|     13442|             [07070]|\n",
      "|     13610|[5070, 7907, 5990...|\n",
      "|     13772|[4280, 41402, 414...|\n",
      "|     13865|             [V3000]|\n",
      "|     14157| [042, 51881, 25000]|\n",
      "+----------+--------------------+\n",
      "only showing top 20 rows\n",
      "\n"
     ]
    }
   ],
   "source": [
    "pats_dias.show()"
   ]
  },
  {
   "cell_type": "markdown",
   "metadata": {},
   "source": [
    "## 4. Data Pre-processing for LDA"
   ]
  },
  {
   "cell_type": "markdown",
   "metadata": {},
   "source": [
    "### 4.1 LDA on Freqency of words"
   ]
  },
  {
   "cell_type": "markdown",
   "metadata": {},
   "source": [
    "#### 4.1.1 Frequency for words's weight"
   ]
  },
  {
   "cell_type": "code",
   "execution_count": 10,
   "metadata": {
    "collapsed": true
   },
   "outputs": [],
   "source": [
    "#index subject_id to label\n",
    "indexer = StringIndexer(inputCol=\"SUBJECT_ID\", outputCol=\"label\")\n",
    "indexed = indexer.fit(pats_dias).transform(pats_dias)\n",
    "\n",
    "#terms' count vector\n",
    "vector = CountVectorizer(inputCol=\"codes\", outputCol=\"features\")\n",
    "countVect = vector.fit(indexed)  \n",
    "\n",
    "#get vocaulary\n",
    "vocabs = countVect.vocabulary\n",
    "result = countVect.transform(indexed)"
   ]
  },
  {
   "cell_type": "markdown",
   "metadata": {},
   "source": [
    "#### 4.1.2 Run on Real World data MIMIC3"
   ]
  },
  {
   "cell_type": "code",
   "execution_count": 18,
   "metadata": {
    "collapsed": true
   },
   "outputs": [],
   "source": [
    "dataset = result.select(\"label\",\"features\")\n",
    "\n",
    "#train LDA model\n",
    "lda_mimic = LDA(k=10, maxIter=10)\n",
    "model_mimic = lda_mimic.fit(dataset)\n",
    "\n",
    "# #get metric standard.\n",
    "# ll = model_mimic.logLikelihood(dataset)\n",
    "# lp = model_mimic.logPerplexity(dataset)\n",
    "# print(\"The lower bound on the log likelihood of the entire corpus: \" + str(ll))\n",
    "# print(\"The upper bound on perplexity: \" + str(lp))"
   ]
  },
  {
   "cell_type": "code",
   "execution_count": 21,
   "metadata": {
    "collapsed": true
   },
   "outputs": [],
   "source": [
    "dataset.toPandas().to_csv(\"data/processed_data.csv\", index=False)"
   ]
  },
  {
   "cell_type": "code",
   "execution_count": 22,
   "metadata": {
    "collapsed": true
   },
   "outputs": [],
   "source": [
    "processed_data = dataset.toPandas()"
   ]
  },
  {
   "cell_type": "code",
   "execution_count": 27,
   "metadata": {},
   "outputs": [
    {
     "data": {
      "text/plain": [
       "SparseVector(6980, {9: 1.0, 10: 1.0, 32: 1.0, 268: 1.0, 301: 1.0})"
      ]
     },
     "execution_count": 27,
     "metadata": {},
     "output_type": "execute_result"
    }
   ],
   "source": [
    "processed_data.features[1]"
   ]
  },
  {
   "cell_type": "code",
   "execution_count": 19,
   "metadata": {
    "collapsed": true
   },
   "outputs": [],
   "source": [
    "# Describe topics.\n",
    "tf_topics = model_mimic.describeTopics(10)"
   ]
  },
  {
   "cell_type": "code",
   "execution_count": 20,
   "metadata": {},
   "outputs": [
    {
     "name": "stdout",
     "output_type": "stream",
     "text": [
      "topic 1:\n",
      "25000 : Diabetes mellitus without mention of complication, type II or unspecified type, not stated as uncontrolled\n",
      "2851 : Acute posthemorrhagic anemia\n",
      "41401 : Coronary atherosclerosis of native coronary artery\n",
      "42731 : Atrial fibrillation\n",
      "496 : Chronic airway obstruction, not elsewhere classified\n",
      "412 : Old myocardial infarction\n",
      "V3000 : Single liveborn, born in hospital, delivered without mention of cesarean section\n",
      "4280 : Congestive heart failure, unspecified\n",
      "E8889 : Unspecified fall\n",
      "V4582 : Percutaneous transluminal coronary angioplasty status\n",
      "topic 2:\n",
      "41401 : Coronary atherosclerosis of native coronary artery\n",
      "E9503 : Suicide and self-inflicted poisoning by tranquilizers and other psychotropic agents\n",
      "E9504 : Suicide and self-inflicted poisoning by other specified drugs and medicinal substances\n",
      "9654 : Poisoning by aromatic analgesics, not elsewhere classified\n",
      "E9500 : Suicide and self-inflicted poisoning by analgesics, antipyretics, and antirheumatics\n",
      "311 : Depressive disorder, not elsewhere classified\n",
      "2851 : Acute posthemorrhagic anemia\n",
      "9690 : NULL\n",
      "51881 : Acute respiratory failure\n",
      "49390 : Asthma, unspecified type, unspecified\n",
      "topic 3:\n",
      "5849 : Acute kidney failure, unspecified\n",
      "4280 : Congestive heart failure, unspecified\n",
      "41401 : Coronary atherosclerosis of native coronary artery\n",
      "42731 : Atrial fibrillation\n",
      "25000 : Diabetes mellitus without mention of complication, type II or unspecified type, not stated as uncontrolled\n",
      "40390 : Hypertensive chronic kidney disease, unspecified, with chronic kidney disease stage I through stage IV, or unspecified\n",
      "5859 : Chronic kidney disease, unspecified\n",
      "486 : Pneumonia, organism unspecified\n",
      "53081 : Esophageal reflux\n",
      "4240 : Mitral valve disorders\n",
      "topic 4:\n",
      "4280 : Congestive heart failure, unspecified\n",
      "42731 : Atrial fibrillation\n",
      "41401 : Coronary atherosclerosis of native coronary artery\n",
      "5849 : Acute kidney failure, unspecified\n",
      "25000 : Diabetes mellitus without mention of complication, type II or unspecified type, not stated as uncontrolled\n",
      "51881 : Acute respiratory failure\n",
      "5990 : Urinary tract infection, site not specified\n",
      "496 : Chronic airway obstruction, not elsewhere classified\n",
      "99592 : Severe sepsis\n",
      "2859 : Anemia, unspecified\n",
      "topic 5:\n",
      "41401 : Coronary atherosclerosis of native coronary artery\n",
      "42731 : Atrial fibrillation\n",
      "2720 : Pure hypercholesterolemia\n",
      "25000 : Diabetes mellitus without mention of complication, type II or unspecified type, not stated as uncontrolled\n",
      "4111 : Intermediate coronary syndrome\n",
      "9971 : Cardiac complications, not elsewhere classified\n",
      "53081 : Esophageal reflux\n",
      "4241 : Aortic valve disorders\n",
      "4280 : Congestive heart failure, unspecified\n",
      "V5861 : Long-term (current) use of anticoagulants\n",
      "topic 6:\n",
      "5712 : Alcoholic cirrhosis of liver\n",
      "5723 : Portal hypertension\n",
      "5715 : Cirrhosis of liver without mention of alcohol\n",
      "2851 : Acute posthemorrhagic anemia\n",
      "78959 : Other ascites\n",
      "2875 : Thrombocytopenia, unspecified\n",
      "5722 : Hepatic encephalopathy\n",
      "5849 : Acute kidney failure, unspecified\n",
      "5856 : End stage renal disease\n",
      "07054 : Chronic hepatitis C without mention of hepatic coma\n",
      "topic 7:\n",
      "5990 : Urinary tract infection, site not specified\n",
      "1985 : Secondary malignant neoplasm of bone and bone marrow\n",
      "2859 : Anemia, unspecified\n",
      "5849 : Acute kidney failure, unspecified\n",
      "1983 : Secondary malignant neoplasm of brain and spinal cord\n",
      "25000 : Diabetes mellitus without mention of complication, type II or unspecified type, not stated as uncontrolled\n",
      "42731 : Atrial fibrillation\n",
      "51881 : Acute respiratory failure\n",
      "1970 : Secondary malignant neoplasm of lung\n",
      "53081 : Esophageal reflux\n",
      "topic 8:\n",
      "V053 : Need for prophylactic vaccination and inoculation against viral hepatitis\n",
      "V290 : Observation for suspected infectious condition\n",
      "V3000 : Single liveborn, born in hospital, delivered without mention of cesarean section\n",
      "V3001 : Single liveborn, born in hospital, delivered by cesarean section\n",
      "V502 : Routine or ritual circumcision\n",
      "76528 : 35-36 completed weeks of gestation\n",
      "7706 : Transitory tachypnea of newborn\n",
      "7746 : Unspecified fetal and neonatal jaundice\n",
      "76519 : Other preterm infants, 2,500 grams and over\n",
      "76518 : Other preterm infants, 2,000-2,499 grams\n",
      "topic 9:\n",
      "53081 : Esophageal reflux\n",
      "3051 : Tobacco use disorder\n",
      "41401 : Coronary atherosclerosis of native coronary artery\n",
      "2720 : Pure hypercholesterolemia\n",
      "5849 : Acute kidney failure, unspecified\n",
      "5990 : Urinary tract infection, site not specified\n",
      "2859 : Anemia, unspecified\n",
      "78039 : Other convulsions\n",
      "51881 : Acute respiratory failure\n",
      "311 : Depressive disorder, not elsewhere classified\n",
      "topic 10:\n",
      "7742 : Neonatal jaundice associated with preterm delivery\n",
      "V290 : Observation for suspected infectious condition\n",
      "769 : Respiratory distress syndrome in newborn\n",
      "V053 : Need for prophylactic vaccination and inoculation against viral hepatitis\n",
      "77081 : Primary apnea of newborn\n",
      "V3001 : Single liveborn, born in hospital, delivered by cesarean section\n",
      "V3101 : Twin birth, mate liveborn, born in hospital, delivered by cesarean section\n",
      "76527 : 33-34 completed weeks of gestation\n",
      "77981 : Neonatal bradycardia\n",
      "76526 : 31-32 completed weeks of gestation\n"
     ]
    }
   ],
   "source": [
    "#List topics and each code in one topic\n",
    "tf_list_topics = tf_topics.select(\"termIndices\").collect()\n",
    "for i in range(len(tf_list_topics)):\n",
    "    print \"topic {}:\".format(i+1)\n",
    "    terms = tf_list_topics[i][0]\n",
    "    for k in range(len(terms)):\n",
    "        dic = dic_ICD_df.where(dic_ICD_df[\"ICD9_CODE\"] == vocabs[terms[k]])\n",
    "        if dic.count()==0:\n",
    "            print vocabs[terms[k]]+\" : NULL\"\n",
    "        else:\n",
    "            print vocabs[terms[k]]+\" : \"+dic.collect()[0][3]\n",
    "    "
   ]
  },
  {
   "cell_type": "code",
   "execution_count": 10,
   "metadata": {
    "collapsed": true
   },
   "outputs": [],
   "source": [
    "#get distribution matrix of documents to topics\n",
    "docTopics = model_mimic.transform(dataset)"
   ]
  },
  {
   "cell_type": "markdown",
   "metadata": {
    "collapsed": true
   },
   "source": [
    "## 4.2 LDA on TF-IDF of words"
   ]
  },
  {
   "cell_type": "markdown",
   "metadata": {},
   "source": [
    "#### 4.2.1 FT-IDF for words' weight"
   ]
  },
  {
   "cell_type": "code",
   "execution_count": 9,
   "metadata": {
    "collapsed": true
   },
   "outputs": [],
   "source": [
    "dataset = resu lt.select(f.col(\"label\"),f.col(\"features\").alias(\"rawFeatures\"))\n",
    "idf = IDF(inputCol=\"rawFeatures\", outputCol=\"features\")\n",
    "idfModel = idf.fit(dataset)\n",
    "rescaledData = idfModel.transform(dataset)"
   ]
  },
  {
   "cell_type": "markdown",
   "metadata": {},
   "source": [
    "#### 4.2.2  Run on Real World data MIMIC3"
   ]
  },
  {
   "cell_type": "code",
   "execution_count": 10,
   "metadata": {
    "collapsed": true
   },
   "outputs": [],
   "source": [
    "tfidf_df = rescaledData.select(\"label\",\"features\")\n",
    "#train LDA model\n",
    "tfidf_lda_mimic = LDA(k=10, maxIter=10)\n",
    "tfidf_model_mimic = lda_mimic.fit(tfidf_df)\n",
    "tfidf_topics = model_mimic.describeTopics(30)\n",
    "tfidf_topics_terms = tfidf_topics.select(\"termIndices\").collect()"
   ]
  },
  {
   "cell_type": "markdown",
   "metadata": {},
   "source": [
    "Show the diagnosis with description and not to filter noisy disease codes."
   ]
  },
  {
   "cell_type": "code",
   "execution_count": 12,
   "metadata": {},
   "outputs": [
    {
     "name": "stdout",
     "output_type": "stream",
     "text": [
      "topic 1:\n",
      "V290 : Observation for suspected infectious condition\n",
      "V3000 : Single liveborn, born in hospital, delivered without mention of cesarean section\n",
      "V053 : Need for prophylactic vaccination and inoculation against viral hepatitis\n",
      "7742 : Neonatal jaundice associated with preterm delivery\n",
      "769 : Respiratory distress syndrome in newborn\n",
      "77081 : Primary apnea of newborn\n",
      "7470 : Patent ductus arteriosus\n",
      "76515 : Other preterm infants, 1,250-1,499 grams\n",
      "5849 : Acute kidney failure, unspecified\n",
      "V502 : Routine or ritual circumcision\n",
      "topic 2:\n",
      "4019 : Unspecified essential hypertension\n",
      "41401 : Coronary atherosclerosis of native coronary artery\n",
      "431 : Intracerebral hemorrhage\n",
      "53081 : Esophageal reflux\n",
      "5849 : Acute kidney failure, unspecified\n",
      "2724 : Other and unspecified hyperlipidemia\n",
      "25000 : Diabetes mellitus without mention of complication, type II or unspecified type, not stated as uncontrolled\n",
      "2851 : Acute posthemorrhagic anemia\n",
      "2720 : Pure hypercholesterolemia\n",
      "E8810 : Accidental fall from ladder\n",
      "topic 3:\n",
      "42731 : Atrial fibrillation\n",
      "4280 : Congestive heart failure, unspecified\n",
      "2449 : Unspecified acquired hypothyroidism\n",
      "5990 : Urinary tract infection, site not specified\n",
      "5849 : Acute kidney failure, unspecified\n",
      "51881 : Acute respiratory failure\n",
      "4019 : Unspecified essential hypertension\n",
      "25000 : Diabetes mellitus without mention of complication, type II or unspecified type, not stated as uncontrolled\n",
      "2762 : Acidosis\n",
      "486 : Pneumonia, organism unspecified\n",
      "topic 4:\n",
      "4019 : Unspecified essential hypertension\n",
      "5849 : Acute kidney failure, unspecified\n",
      "42731 : Atrial fibrillation\n",
      "51881 : Acute respiratory failure\n",
      "2720 : Pure hypercholesterolemia\n",
      "4373 : Cerebral aneurysm, nonruptured\n",
      "2724 : Other and unspecified hyperlipidemia\n",
      "5723 : Portal hypertension\n",
      "5712 : Alcoholic cirrhosis of liver\n",
      "2851 : Acute posthemorrhagic anemia\n",
      "topic 5:\n",
      "4019 : Unspecified essential hypertension\n",
      "41401 : Coronary atherosclerosis of native coronary artery\n",
      "4280 : Congestive heart failure, unspecified\n",
      "25000 : Diabetes mellitus without mention of complication, type II or unspecified type, not stated as uncontrolled\n",
      "5849 : Acute kidney failure, unspecified\n",
      "2851 : Acute posthemorrhagic anemia\n",
      "51881 : Acute respiratory failure\n",
      "2724 : Other and unspecified hyperlipidemia\n",
      "1985 : Secondary malignant neoplasm of bone and bone marrow\n",
      "486 : Pneumonia, organism unspecified\n",
      "topic 6:\n",
      "V053 : Need for prophylactic vaccination and inoculation against viral hepatitis\n",
      "V290 : Observation for suspected infectious condition\n",
      "V3000 : Single liveborn, born in hospital, delivered without mention of cesarean section\n",
      "V3001 : Single liveborn, born in hospital, delivered by cesarean section\n",
      "7742 : Neonatal jaundice associated with preterm delivery\n",
      "V502 : Routine or ritual circumcision\n",
      "769 : Respiratory distress syndrome in newborn\n",
      "7793 : NULL\n",
      "77081 : Primary apnea of newborn\n",
      "V3101 : Twin birth, mate liveborn, born in hospital, delivered by cesarean section\n",
      "topic 7:\n",
      "29181 : Alcohol withdrawal\n",
      "5363 : Gastroparesis\n",
      "311 : Depressive disorder, not elsewhere classified\n",
      "25013 : Diabetes with ketoacidosis, type I [juvenile type], uncontrolled\n",
      "41401 : Coronary atherosclerosis of native coronary artery\n",
      "30301 : Acute alcoholic intoxication in alcoholism, continuous\n",
      "5849 : Acute kidney failure, unspecified\n",
      "4019 : Unspecified essential hypertension\n",
      "V600 : Lack of housing\n",
      "25063 : Diabetes with neurological manifestations, type I [juvenile type], uncontrolled\n",
      "topic 8:\n",
      "4019 : Unspecified essential hypertension\n",
      "8600 : Traumatic pneumothorax without mention of open wound into thorax\n",
      "86121 : Contusion of lung without mention of open wound into thorax\n",
      "8028 : Closed fracture of other facial bones\n",
      "8730 : Open wound of scalp, without mention of complication\n",
      "E8120 : Other motor vehicle traffic accident involving collision with motor vehicle injuring driver of motor vehicle other than motorcycle\n",
      "8024 : Closed fracture of malar and maxillary bones\n",
      "8020 : Closed fracture of nasal bones\n",
      "E8147 : Motor vehicle traffic accident involving collision with pedestrian injuring pedestrian\n",
      "2851 : Acute posthemorrhagic anemia\n",
      "topic 9:\n",
      "4019 : Unspecified essential hypertension\n",
      "41401 : Coronary atherosclerosis of native coronary artery\n",
      "2720 : Pure hypercholesterolemia\n",
      "2724 : Other and unspecified hyperlipidemia\n",
      "42731 : Atrial fibrillation\n",
      "53081 : Esophageal reflux\n",
      "25000 : Diabetes mellitus without mention of complication, type II or unspecified type, not stated as uncontrolled\n",
      "4111 : Intermediate coronary syndrome\n",
      "9971 : Cardiac complications, not elsewhere classified\n",
      "4241 : Aortic valve disorders\n",
      "topic 10:\n",
      "4019 : Unspecified essential hypertension\n",
      "4280 : Congestive heart failure, unspecified\n",
      "42731 : Atrial fibrillation\n",
      "5849 : Acute kidney failure, unspecified\n",
      "25000 : Diabetes mellitus without mention of complication, type II or unspecified type, not stated as uncontrolled\n",
      "51881 : Acute respiratory failure\n",
      "41401 : Coronary atherosclerosis of native coronary artery\n",
      "5990 : Urinary tract infection, site not specified\n",
      "2724 : Other and unspecified hyperlipidemia\n",
      "53081 : Esophageal reflux\n"
     ]
    }
   ],
   "source": [
    "#List topics and each code in one topic\n",
    "for i in range(len(tfidf_topics_terms)):\n",
    "    print \"topic {}:\".format(i+1)\n",
    "    terms = tfidf_topics_terms[i][0]\n",
    "    displayNumOfTerms = 10\n",
    "    n = 0\n",
    "    for k in range(len(terms)):\n",
    "        dic = dic_ICD_df.where(dic_ICD_df[\"ICD9_CODE\"] == vocabs[terms[k]])\n",
    "        if dic.count()==0:\n",
    "            print vocabs[terms[k]]+\" : NULL\"\n",
    "        else:\n",
    "            print vocabs[terms[k]]+\" : \"+dic.collect()[0][3]\n",
    "        n = n + 1\n",
    "        if n%10 ==0:\n",
    "                break"
   ]
  },
  {
   "cell_type": "markdown",
   "metadata": {},
   "source": [
    "Show the diagnosis with description and to filter noisy disease codes."
   ]
  },
  {
   "cell_type": "code",
   "execution_count": 13,
   "metadata": {},
   "outputs": [
    {
     "name": "stdout",
     "output_type": "stream",
     "text": [
      "topic 1:\n",
      "V290 : Observation for suspected infectious condition\n",
      "V3000 : Single liveborn, born in hospital, delivered without mention of cesarean section\n",
      "V053 : Need for prophylactic vaccination and inoculation against viral hepatitis\n",
      "7742 : Neonatal jaundice associated with preterm delivery\n",
      "769 : Respiratory distress syndrome in newborn\n",
      "77081 : Primary apnea of newborn\n",
      "7470 : Patent ductus arteriosus\n",
      "76515 : Other preterm infants, 1,250-1,499 grams\n",
      "V502 : Routine or ritual circumcision\n",
      "4589 : Hypotension, unspecified\n",
      "topic 2:\n",
      "41401 : Coronary atherosclerosis of native coronary artery\n",
      "431 : Intracerebral hemorrhage\n",
      "53081 : Esophageal reflux\n",
      "25000 : Diabetes mellitus without mention of complication, type II or unspecified type, not stated as uncontrolled\n",
      "2851 : Acute posthemorrhagic anemia\n",
      "2720 : Pure hypercholesterolemia\n",
      "E8810 : Accidental fall from ladder\n",
      "42731 : Atrial fibrillation\n",
      "311 : Depressive disorder, not elsewhere classified\n",
      "2859 : Anemia, unspecified\n",
      "topic 3:\n",
      "42731 : Atrial fibrillation\n",
      "5990 : Urinary tract infection, site not specified\n",
      "51881 : Acute respiratory failure\n",
      "25000 : Diabetes mellitus without mention of complication, type II or unspecified type, not stated as uncontrolled\n",
      "2762 : Acidosis\n",
      "486 : Pneumonia, organism unspecified\n",
      "5859 : Chronic kidney disease, unspecified\n",
      "40390 : Hypertensive chronic kidney disease, unspecified, with chronic kidney disease stage I through stage IV, or unspecified\n",
      "V5861 : Long-term (current) use of anticoagulants\n",
      "5070 : Pneumonitis due to inhalation of food or vomitus\n",
      "topic 4:\n",
      "42731 : Atrial fibrillation\n",
      "51881 : Acute respiratory failure\n",
      "2720 : Pure hypercholesterolemia\n",
      "4373 : Cerebral aneurysm, nonruptured\n",
      "5723 : Portal hypertension\n",
      "5712 : Alcoholic cirrhosis of liver\n",
      "2851 : Acute posthemorrhagic anemia\n",
      "41401 : Coronary atherosclerosis of native coronary artery\n",
      "49390 : Asthma, unspecified type, unspecified\n",
      "07070 : Unspecified viral hepatitis C without hepatic coma\n",
      "topic 5:\n",
      "41401 : Coronary atherosclerosis of native coronary artery\n",
      "25000 : Diabetes mellitus without mention of complication, type II or unspecified type, not stated as uncontrolled\n",
      "2851 : Acute posthemorrhagic anemia\n",
      "51881 : Acute respiratory failure\n",
      "1985 : Secondary malignant neoplasm of bone and bone marrow\n",
      "486 : Pneumonia, organism unspecified\n",
      "412 : Old myocardial infarction\n",
      "5712 : Alcoholic cirrhosis of liver\n",
      "2762 : Acidosis\n",
      "2859 : Anemia, unspecified\n",
      "topic 6:\n",
      "V053 : Need for prophylactic vaccination and inoculation against viral hepatitis\n",
      "V290 : Observation for suspected infectious condition\n",
      "V3000 : Single liveborn, born in hospital, delivered without mention of cesarean section\n",
      "V3001 : Single liveborn, born in hospital, delivered by cesarean section\n",
      "7742 : Neonatal jaundice associated with preterm delivery\n",
      "V502 : Routine or ritual circumcision\n",
      "769 : Respiratory distress syndrome in newborn\n",
      "77081 : Primary apnea of newborn\n",
      "V3101 : Twin birth, mate liveborn, born in hospital, delivered by cesarean section\n",
      "76518 : Other preterm infants, 2,000-2,499 grams\n",
      "topic 7:\n",
      "29181 : Alcohol withdrawal\n",
      "5363 : Gastroparesis\n",
      "311 : Depressive disorder, not elsewhere classified\n",
      "25013 : Diabetes with ketoacidosis, type I [juvenile type], uncontrolled\n",
      "41401 : Coronary atherosclerosis of native coronary artery\n",
      "30301 : Acute alcoholic intoxication in alcoholism, continuous\n",
      "V600 : Lack of housing\n",
      "25063 : Diabetes with neurological manifestations, type I [juvenile type], uncontrolled\n",
      "3051 : Tobacco use disorder\n",
      "51881 : Acute respiratory failure\n",
      "topic 8:\n",
      "8600 : Traumatic pneumothorax without mention of open wound into thorax\n",
      "86121 : Contusion of lung without mention of open wound into thorax\n",
      "8028 : Closed fracture of other facial bones\n",
      "8730 : Open wound of scalp, without mention of complication\n",
      "E8120 : Other motor vehicle traffic accident involving collision with motor vehicle injuring driver of motor vehicle other than motorcycle\n",
      "8024 : Closed fracture of malar and maxillary bones\n",
      "8020 : Closed fracture of nasal bones\n",
      "E8147 : Motor vehicle traffic accident involving collision with pedestrian injuring pedestrian\n",
      "2851 : Acute posthemorrhagic anemia\n",
      "8054 : Closed fracture of lumbar vertebra without mention of spinal cord injury\n",
      "topic 9:\n",
      "41401 : Coronary atherosclerosis of native coronary artery\n",
      "2720 : Pure hypercholesterolemia\n",
      "42731 : Atrial fibrillation\n",
      "53081 : Esophageal reflux\n",
      "25000 : Diabetes mellitus without mention of complication, type II or unspecified type, not stated as uncontrolled\n",
      "4111 : Intermediate coronary syndrome\n",
      "9971 : Cardiac complications, not elsewhere classified\n",
      "4241 : Aortic valve disorders\n",
      "V1582 : Personal history of tobacco use\n",
      "3051 : Tobacco use disorder\n",
      "topic 10:\n",
      "42731 : Atrial fibrillation\n",
      "25000 : Diabetes mellitus without mention of complication, type II or unspecified type, not stated as uncontrolled\n",
      "51881 : Acute respiratory failure\n",
      "41401 : Coronary atherosclerosis of native coronary artery\n",
      "5990 : Urinary tract infection, site not specified\n",
      "53081 : Esophageal reflux\n",
      "2859 : Anemia, unspecified\n",
      "99592 : Severe sepsis\n",
      "486 : Pneumonia, organism unspecified\n",
      "496 : Chronic airway obstruction, not elsewhere classified\n"
     ]
    }
   ],
   "source": [
    "noisyWordList = ['4019','7793','2724','2449','0389','5849','2875','4280','30560']\n",
    "#List topics and each code in one topic\n",
    "for i in range(len(tfidf_topics_terms)):\n",
    "    print \"topic {}:\".format(i+1)\n",
    "    terms = tfidf_topics_terms[i][0]\n",
    "    displayNumOfTerms = 10\n",
    "    n = 0\n",
    "    for k in range(len(terms)):\n",
    "        dic = dic_ICD_df.where(dic_ICD_df[\"ICD9_CODE\"] == vocabs[terms[k]])\n",
    "        if dic.count()!=0 and vocabs[terms[k]] not in noisyWordList:\n",
    "            print vocabs[terms[k]]+\" : \"+dic.collect()[0][3]\n",
    "            n = n + 1\n",
    "            if n%10 ==0:\n",
    "                break"
   ]
  },
  {
   "cell_type": "markdown",
   "metadata": {},
   "source": [
    "## Python Syntax Testing"
   ]
  },
  {
   "cell_type": "code",
   "execution_count": 4,
   "metadata": {},
   "outputs": [
    {
     "data": {
      "text/plain": [
       "['sdf']"
      ]
     },
     "execution_count": 4,
     "metadata": {},
     "output_type": "execute_result"
    }
   ],
   "source": [
    "ls = ['sdf','sf','66','67']\n",
    "ls = [x for x in ls if not x.startswith(\"6\") and not x in ['sf']]\n",
    "ls"
   ]
  },
  {
   "cell_type": "code",
   "execution_count": 23,
   "metadata": {},
   "outputs": [
    {
     "data": {
      "text/plain": [
       "False"
      ]
     },
     "execution_count": 23,
     "metadata": {},
     "output_type": "execute_result"
    }
   ],
   "source": [
    "noisyWordList = ['4019','7793','2724','2449']\n",
    "'4019' not in noisyWordList"
   ]
  }
 ],
 "metadata": {
  "kernelspec": {
   "display_name": "Python 2",
   "language": "python",
   "name": "python2"
  },
  "language_info": {
   "codemirror_mode": {
    "name": "ipython",
    "version": 2
   },
   "file_extension": ".py",
   "mimetype": "text/x-python",
   "name": "python",
   "nbconvert_exporter": "python",
   "pygments_lexer": "ipython2",
   "version": "2.7.13"
  }
 },
 "nbformat": 4,
 "nbformat_minor": 2
}
